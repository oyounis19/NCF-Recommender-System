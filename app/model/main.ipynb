{
 "cells": [
  {
   "cell_type": "markdown",
   "id": "83d0d661",
   "metadata": {
    "papermill": {
     "duration": 0.012454,
     "end_time": "2024-04-22T18:15:10.381566",
     "exception": false,
     "start_time": "2024-04-22T18:15:10.369112",
     "status": "completed"
    },
    "tags": []
   },
   "source": [
    "# NCF Recommender System with PyTorch: A Deep Dive 🚀\n",
    "This notebook delves into the exciting world of recommender systems using Neural Collaborative Filtering (NCF) implemented in PyTorch. We'll explore various aspects, including handling both explicit and implicit user feedback scenarios (Where explicit scenario is a regression task and implicit scenario is a classification task), building an end-to-end recommender system pipeline, and leveraging the power of deep learning to generate personalized recommendations.\n",
    "\n",
    "# Understanding NCF:\n",
    "NCF, introduced by Xiangnan He et al. in their influential paper [Neural Collaborative Filtering](https://arxiv.org/abs/1708.05031), offers a powerful framework for collaborative filtering. It encompasses a range of models built upon multi-layer perceptrons, effectively generalizing matrix factorization techniques.\n",
    "\n",
    "<div style=\"text-align:center;\">\n",
    "    <img src=\"https://www.adityaagrawal.net/blog/assets/dnn/ncf.png\" alt=\"Image\" width=\"600\" height=\"400\">\n",
    "</div>\n",
    "\n",
    "# Adjusted Architecture:\n",
    "The original NCF model takes user and item IDs as input and concatenates their embeddings to form the input layer, which is more vulnerable to the well-known cold-start problem. However, in this notebook, we'll modify the architecture to include additional user and item features. This allows us to handle both explicit and implicit feedback scenarios effectively.\n",
    "\n",
    "<div style=\"text-align:center;\">\n",
    "    <img src=\"utils/img/NCF.png\" alt=\"Image\" width=\"900\" height=\"400\">\n",
    "</div>\n",
    "\n",
    "This adjusted architecture comprises the following components:\n",
    "1. **User and Item Embeddings:** These embeddings capture the latent features of users and items, enabling the model to learn their interactions effectively. (As before)\n",
    "2. **User and Item Features:** These features provide additional information about users and items, enhancing the model's understanding of their characteristics. (User demographics, item genres, etc.)\n",
    "3. **Fully Connected Layers:** These layers are used to transform the feature vectors into the same size as the embeddings, facilitating their concatenation in the subsequent layers (MLP).\n",
    "\n",
    "## Exploring the Code:\n",
    "\n",
    "For a practical implementation, you can refer to the GitHub repository:\n",
    "[NCF-Recommender-System](https://github.com/oyounis19/NCF-Recommender-System)\n",
    "\n",
    "## Demystifying the Recommender System Pipeline:\n",
    "<figure>\n",
    "  <center>\n",
    "    <div style=\"width:940px;height:500px;\">\n",
    "      <img src=\"https://miro.medium.com/v2/resize:fit:1400/format:png/0*M-kqT5K4y1fSjRY6\" alt=\"Recommender System Pipeline\" style=\"width:100%;height:100%;\">\n",
    "    </div>\n",
    "    <!-- Credit for the image -->\n",
    "    <figcaption>Image from this article</figcaption><a href=\"https://medium.com/nvidia-merlin/recommender-systems-not-just-recommender-models-485c161c755e\">Recommender Systems: Not Just Recommender Models</a>\n",
    "  </center>\n",
    "</figure>\n",
    "\n",
    "Let's dissect the key stages involved in generating personalized recommendations:\n",
    "1. **Retrieval: Selecting the Right Candidates**\n",
    "- This initial phase involves narrowing down the vast item catalog to a manageable set of potential recommendations. Several techniques can be employed:    \n",
    "    - **Popularity-Based:** Prioritize items with high overall user engagement.\n",
    "    - **Content-Based:** Recommend items similar to the user's past preferences.\n",
    "    - **Collaborative Filtering:** Suggest items enjoyed by users with similar tastes.\n",
    "    - **Hybrid Approaches:** Combine multiple retrieval strategies for a more comprehensive approach. (Implemented in this notebook)\n",
    "2. **Filtering: Refining the Set**\n",
    "- Ensure the candidate list is relevant and appropriate for the user. This might involve:\n",
    "    - Removing items the user has already interacted with. (Implemented in this notebook)\n",
    "    - Excluding items unavailable in the user's region.\n",
    "    - Filtering out items unsuitable based on age restrictions.\n",
    "3. **Scoring: Prioritizing Recommendations**\n",
    "- Here, the remaining candidates are ranked based on their predicted relevance to the user. Popular techniques include:\n",
    "    - Neural Collaborative Filtering (NCF) models (as demonstrated in this notebook)\n",
    "    - Matrix Factorization\n",
    "    - BST (Behavior Sequence Transformer) models (e.g., [BST in Alibaba](https://arxiv.org/abs/1905.06874))\n",
    "    - BERT4Rec models (e.g., [BERT4Rec](https://arxiv.org/abs/1904.06690))\n",
    "4. **Ordering: Presenting the Final Recommendations**\n",
    "- This final stage incorporates business logic to determine the order in which items are presented. Examples include:\n",
    "    - Displaying the top 10 most relevant items. (Implemented in this notebook)\n",
    "    - Highlighting items currently on sale.\n",
    "    - Prioritizing in-stock items for immediate purchase.\n",
    "\n",
    "By understanding these stages and the power of NCF, we can create robust and personalized recommender systems that enhance user experiences."
   ]
  },
  {
   "cell_type": "code",
   "execution_count": 1,
   "id": "04d9d542",
   "metadata": {
    "execution": {
     "iopub.execute_input": "2024-04-22T18:15:10.407579Z",
     "iopub.status.busy": "2024-04-22T18:15:10.407164Z",
     "iopub.status.idle": "2024-04-22T18:15:16.250365Z",
     "shell.execute_reply": "2024-04-22T18:15:16.249355Z"
    },
    "papermill": {
     "duration": 5.859427,
     "end_time": "2024-04-22T18:15:16.253106",
     "exception": false,
     "start_time": "2024-04-22T18:15:10.393679",
     "status": "completed"
    },
    "tags": []
   },
   "outputs": [],
   "source": [
    "import pandas as pd\n",
    "from IPython.display import display\n",
    "from sklearn.model_selection import train_test_split\n",
    "\n",
    "import torch\n",
    "from utils.utils import Utils, EarlyStopping, cols_dict\n",
    "from utils.model import NCF\n",
    "\n",
    "# Limit number of printed columns\n",
    "pd.set_option(\"display.max_columns\", 6)"
   ]
  },
  {
   "cell_type": "code",
   "execution_count": 2,
   "id": "0c90bd4c",
   "metadata": {
    "execution": {
     "iopub.execute_input": "2024-04-22T18:15:16.278844Z",
     "iopub.status.busy": "2024-04-22T18:15:16.278310Z",
     "iopub.status.idle": "2024-04-22T18:15:25.380773Z",
     "shell.execute_reply": "2024-04-22T18:15:25.379614Z"
    },
    "papermill": {
     "duration": 9.118405,
     "end_time": "2024-04-22T18:15:25.383469",
     "exception": false,
     "start_time": "2024-04-22T18:15:16.265064",
     "status": "completed"
    },
    "tags": []
   },
   "outputs": [
    {
     "data": {
      "text/html": [
       "<div>\n",
       "<style scoped>\n",
       "    .dataframe tbody tr th:only-of-type {\n",
       "        vertical-align: middle;\n",
       "    }\n",
       "\n",
       "    .dataframe tbody tr th {\n",
       "        vertical-align: top;\n",
       "    }\n",
       "\n",
       "    .dataframe thead th {\n",
       "        text-align: right;\n",
       "    }\n",
       "</style>\n",
       "<table border=\"1\" class=\"dataframe\">\n",
       "  <thead>\n",
       "    <tr style=\"text-align: right;\">\n",
       "      <th></th>\n",
       "      <th>user_id</th>\n",
       "      <th>movie_id</th>\n",
       "      <th>rating</th>\n",
       "      <th>timestamp</th>\n",
       "    </tr>\n",
       "  </thead>\n",
       "  <tbody>\n",
       "    <tr>\n",
       "      <th>0</th>\n",
       "      <td>1</td>\n",
       "      <td>1193</td>\n",
       "      <td>5</td>\n",
       "      <td>978300760</td>\n",
       "    </tr>\n",
       "    <tr>\n",
       "      <th>1</th>\n",
       "      <td>1</td>\n",
       "      <td>661</td>\n",
       "      <td>3</td>\n",
       "      <td>978302109</td>\n",
       "    </tr>\n",
       "    <tr>\n",
       "      <th>2</th>\n",
       "      <td>1</td>\n",
       "      <td>914</td>\n",
       "      <td>3</td>\n",
       "      <td>978301968</td>\n",
       "    </tr>\n",
       "  </tbody>\n",
       "</table>\n",
       "</div>"
      ],
      "text/plain": [
       "   user_id  movie_id  rating  timestamp\n",
       "0        1      1193       5  978300760\n",
       "1        1       661       3  978302109\n",
       "2        1       914       3  978301968"
      ]
     },
     "metadata": {},
     "output_type": "display_data"
    },
    {
     "data": {
      "text/html": [
       "<div>\n",
       "<style scoped>\n",
       "    .dataframe tbody tr th:only-of-type {\n",
       "        vertical-align: middle;\n",
       "    }\n",
       "\n",
       "    .dataframe tbody tr th {\n",
       "        vertical-align: top;\n",
       "    }\n",
       "\n",
       "    .dataframe thead th {\n",
       "        text-align: right;\n",
       "    }\n",
       "</style>\n",
       "<table border=\"1\" class=\"dataframe\">\n",
       "  <thead>\n",
       "    <tr style=\"text-align: right;\">\n",
       "      <th></th>\n",
       "      <th>user_id</th>\n",
       "      <th>gender</th>\n",
       "      <th>age</th>\n",
       "      <th>occupation</th>\n",
       "      <th>zip_code</th>\n",
       "    </tr>\n",
       "  </thead>\n",
       "  <tbody>\n",
       "    <tr>\n",
       "      <th>0</th>\n",
       "      <td>1</td>\n",
       "      <td>F</td>\n",
       "      <td>1</td>\n",
       "      <td>10</td>\n",
       "      <td>48067</td>\n",
       "    </tr>\n",
       "    <tr>\n",
       "      <th>1</th>\n",
       "      <td>2</td>\n",
       "      <td>M</td>\n",
       "      <td>56</td>\n",
       "      <td>16</td>\n",
       "      <td>70072</td>\n",
       "    </tr>\n",
       "    <tr>\n",
       "      <th>2</th>\n",
       "      <td>3</td>\n",
       "      <td>M</td>\n",
       "      <td>25</td>\n",
       "      <td>15</td>\n",
       "      <td>55117</td>\n",
       "    </tr>\n",
       "  </tbody>\n",
       "</table>\n",
       "</div>"
      ],
      "text/plain": [
       "   user_id gender  age  occupation zip_code\n",
       "0        1      F    1          10    48067\n",
       "1        2      M   56          16    70072\n",
       "2        3      M   25          15    55117"
      ]
     },
     "metadata": {},
     "output_type": "display_data"
    },
    {
     "data": {
      "text/html": [
       "<div>\n",
       "<style scoped>\n",
       "    .dataframe tbody tr th:only-of-type {\n",
       "        vertical-align: middle;\n",
       "    }\n",
       "\n",
       "    .dataframe tbody tr th {\n",
       "        vertical-align: top;\n",
       "    }\n",
       "\n",
       "    .dataframe thead th {\n",
       "        text-align: right;\n",
       "    }\n",
       "</style>\n",
       "<table border=\"1\" class=\"dataframe\">\n",
       "  <thead>\n",
       "    <tr style=\"text-align: right;\">\n",
       "      <th></th>\n",
       "      <th>movie_id</th>\n",
       "      <th>title</th>\n",
       "      <th>genre</th>\n",
       "    </tr>\n",
       "  </thead>\n",
       "  <tbody>\n",
       "    <tr>\n",
       "      <th>0</th>\n",
       "      <td>1</td>\n",
       "      <td>Toy Story (1995)</td>\n",
       "      <td>Animation|Children's|Comedy</td>\n",
       "    </tr>\n",
       "    <tr>\n",
       "      <th>1</th>\n",
       "      <td>2</td>\n",
       "      <td>Jumanji (1995)</td>\n",
       "      <td>Adventure|Children's|Fantasy</td>\n",
       "    </tr>\n",
       "    <tr>\n",
       "      <th>2</th>\n",
       "      <td>3</td>\n",
       "      <td>Grumpier Old Men (1995)</td>\n",
       "      <td>Comedy|Romance</td>\n",
       "    </tr>\n",
       "  </tbody>\n",
       "</table>\n",
       "</div>"
      ],
      "text/plain": [
       "   movie_id                    title                         genre\n",
       "0         1         Toy Story (1995)   Animation|Children's|Comedy\n",
       "1         2           Jumanji (1995)  Adventure|Children's|Fantasy\n",
       "2         3  Grumpier Old Men (1995)                Comedy|Romance"
      ]
     },
     "metadata": {},
     "output_type": "display_data"
    },
    {
     "data": {
      "text/plain": [
       "((1000209, 4), (6040, 5), (3883, 3))"
      ]
     },
     "execution_count": 2,
     "metadata": {},
     "output_type": "execute_result"
    }
   ],
   "source": [
    "dir = 'data/ml-1m/'\n",
    "\n",
    "# Load ratings file\n",
    "ratings_data = pd.read_csv(dir + 'ratings.dat', sep='::', names=cols_dict['ratings'], engine='python')\n",
    "\n",
    "# Load users file\n",
    "users_data = pd.read_csv(dir + 'users.dat', sep='::', names=cols_dict['users'], engine='python')\n",
    "\n",
    "# Load items file\n",
    "items_data = pd.read_csv(dir + 'movies.dat', sep='::', names=cols_dict['items'], encoding='latin-1', engine='python')\n",
    "\n",
    "# Display the first few rows of each dataset\n",
    "display(ratings_data.head(3), users_data.head(3), items_data.head(3))\n",
    "\n",
    "ratings_data.shape, users_data.shape, items_data.shape"
   ]
  },
  {
   "cell_type": "code",
   "execution_count": 3,
   "id": "a154eae4",
   "metadata": {
    "execution": {
     "iopub.execute_input": "2024-04-22T18:15:25.411814Z",
     "iopub.status.busy": "2024-04-22T18:15:25.411397Z",
     "iopub.status.idle": "2024-04-22T18:15:25.438000Z",
     "shell.execute_reply": "2024-04-22T18:15:25.436978Z"
    },
    "papermill": {
     "duration": 0.044396,
     "end_time": "2024-04-22T18:15:25.440711",
     "exception": false,
     "start_time": "2024-04-22T18:15:25.396315",
     "status": "completed"
    },
    "tags": []
   },
   "outputs": [
    {
     "data": {
      "text/plain": [
       "(0, 0, 0)"
      ]
     },
     "execution_count": 3,
     "metadata": {},
     "output_type": "execute_result"
    }
   ],
   "source": [
    "# Copy the original data for future reference\n",
    "users_data_og = users_data.copy(deep=True); items_data_og = items_data.copy(deep=True); ratings_data_og = ratings_data.copy(deep=True)\n",
    "\n",
    "# Check for missing values\n",
    "ratings_data.isnull().sum().sum(), users_data.isnull().sum().sum(), items_data.isnull().sum().sum()"
   ]
  },
  {
   "cell_type": "markdown",
   "id": "d6d962ef",
   "metadata": {
    "papermill": {
     "duration": 0.012892,
     "end_time": "2024-04-22T18:15:25.467845",
     "exception": false,
     "start_time": "2024-04-22T18:15:25.454953",
     "status": "completed"
    },
    "tags": []
   },
   "source": [
    "# Explicit Feedback\n",
    "- Explicit feedback is when a user gives direct feedback on an item (e.g. rating a movie on a scale of 1 to 5 stars).\n",
    "- Predict the rating a user will give to a movie they have not yet rated."
   ]
  },
  {
   "cell_type": "markdown",
   "id": "119ec973",
   "metadata": {
    "papermill": {
     "duration": 0.01253,
     "end_time": "2024-04-22T18:15:25.493331",
     "exception": false,
     "start_time": "2024-04-22T18:15:25.480801",
     "status": "completed"
    },
    "tags": []
   },
   "source": [
    "## Preprocessing & Feature Extraction"
   ]
  },
  {
   "cell_type": "markdown",
   "id": "b27302a9",
   "metadata": {
    "papermill": {
     "duration": 0.012519,
     "end_time": "2024-04-22T18:15:25.518670",
     "exception": false,
     "start_time": "2024-04-22T18:15:25.506151",
     "status": "completed"
    },
    "tags": []
   },
   "source": [
    "Extracted features:\n",
    "- Average rating for each category\n",
    "- Year from the title"
   ]
  },
  {
   "cell_type": "code",
   "execution_count": 4,
   "id": "3d66c279",
   "metadata": {
    "execution": {
     "iopub.execute_input": "2024-04-22T18:15:25.547163Z",
     "iopub.status.busy": "2024-04-22T18:15:25.546159Z",
     "iopub.status.idle": "2024-04-22T18:15:29.318024Z",
     "shell.execute_reply": "2024-04-22T18:15:29.316971Z"
    },
    "papermill": {
     "duration": 3.788299,
     "end_time": "2024-04-22T18:15:29.320277",
     "exception": false,
     "start_time": "2024-04-22T18:15:25.531978",
     "status": "completed"
    },
    "tags": []
   },
   "outputs": [
    {
     "name": "stdout",
     "output_type": "stream",
     "text": [
      "Ratings shape: (1000209, 3) \n",
      "Users shape: (1000209, 48) \n",
      "Items shape: (1000209, 19)\n"
     ]
    },
    {
     "data": {
      "text/html": [
       "<div>\n",
       "<style scoped>\n",
       "    .dataframe tbody tr th:only-of-type {\n",
       "        vertical-align: middle;\n",
       "    }\n",
       "\n",
       "    .dataframe tbody tr th {\n",
       "        vertical-align: top;\n",
       "    }\n",
       "\n",
       "    .dataframe thead th {\n",
       "        text-align: right;\n",
       "    }\n",
       "</style>\n",
       "<table border=\"1\" class=\"dataframe\">\n",
       "  <thead>\n",
       "    <tr style=\"text-align: right;\">\n",
       "      <th></th>\n",
       "      <th>user_id</th>\n",
       "      <th>movie_id</th>\n",
       "      <th>rating</th>\n",
       "    </tr>\n",
       "  </thead>\n",
       "  <tbody>\n",
       "    <tr>\n",
       "      <th>0</th>\n",
       "      <td>1</td>\n",
       "      <td>1193</td>\n",
       "      <td>1.0</td>\n",
       "    </tr>\n",
       "    <tr>\n",
       "      <th>1</th>\n",
       "      <td>1</td>\n",
       "      <td>661</td>\n",
       "      <td>0.6</td>\n",
       "    </tr>\n",
       "    <tr>\n",
       "      <th>2</th>\n",
       "      <td>1</td>\n",
       "      <td>914</td>\n",
       "      <td>0.6</td>\n",
       "    </tr>\n",
       "  </tbody>\n",
       "</table>\n",
       "</div>"
      ],
      "text/plain": [
       "   user_id  movie_id  rating\n",
       "0        1      1193     1.0\n",
       "1        1       661     0.6\n",
       "2        1       914     0.6"
      ]
     },
     "metadata": {},
     "output_type": "display_data"
    },
    {
     "data": {
      "text/html": [
       "<div>\n",
       "<style scoped>\n",
       "    .dataframe tbody tr th:only-of-type {\n",
       "        vertical-align: middle;\n",
       "    }\n",
       "\n",
       "    .dataframe tbody tr th {\n",
       "        vertical-align: top;\n",
       "    }\n",
       "\n",
       "    .dataframe thead th {\n",
       "        text-align: right;\n",
       "    }\n",
       "</style>\n",
       "<table border=\"1\" class=\"dataframe\">\n",
       "  <thead>\n",
       "    <tr style=\"text-align: right;\">\n",
       "      <th></th>\n",
       "      <th>gender_M</th>\n",
       "      <th>gender_F</th>\n",
       "      <th>occupation_0</th>\n",
       "      <th>...</th>\n",
       "      <th>user_avg_rating_Thriller</th>\n",
       "      <th>user_avg_rating_War</th>\n",
       "      <th>user_avg_rating_Western</th>\n",
       "    </tr>\n",
       "  </thead>\n",
       "  <tbody>\n",
       "    <tr>\n",
       "      <th>0</th>\n",
       "      <td>0</td>\n",
       "      <td>1</td>\n",
       "      <td>0</td>\n",
       "      <td>...</td>\n",
       "      <td>0.612114</td>\n",
       "      <td>0.698806</td>\n",
       "      <td>0.0</td>\n",
       "    </tr>\n",
       "    <tr>\n",
       "      <th>1</th>\n",
       "      <td>0</td>\n",
       "      <td>1</td>\n",
       "      <td>0</td>\n",
       "      <td>...</td>\n",
       "      <td>0.612114</td>\n",
       "      <td>0.698806</td>\n",
       "      <td>0.0</td>\n",
       "    </tr>\n",
       "    <tr>\n",
       "      <th>2</th>\n",
       "      <td>0</td>\n",
       "      <td>1</td>\n",
       "      <td>0</td>\n",
       "      <td>...</td>\n",
       "      <td>0.612114</td>\n",
       "      <td>0.698806</td>\n",
       "      <td>0.0</td>\n",
       "    </tr>\n",
       "  </tbody>\n",
       "</table>\n",
       "<p>3 rows × 48 columns</p>\n",
       "</div>"
      ],
      "text/plain": [
       "   gender_M  gender_F  occupation_0  ...  user_avg_rating_Thriller  \\\n",
       "0         0         1             0  ...                  0.612114   \n",
       "1         0         1             0  ...                  0.612114   \n",
       "2         0         1             0  ...                  0.612114   \n",
       "\n",
       "   user_avg_rating_War  user_avg_rating_Western  \n",
       "0             0.698806                      0.0  \n",
       "1             0.698806                      0.0  \n",
       "2             0.698806                      0.0  \n",
       "\n",
       "[3 rows x 48 columns]"
      ]
     },
     "metadata": {},
     "output_type": "display_data"
    },
    {
     "data": {
      "text/html": [
       "<div>\n",
       "<style scoped>\n",
       "    .dataframe tbody tr th:only-of-type {\n",
       "        vertical-align: middle;\n",
       "    }\n",
       "\n",
       "    .dataframe tbody tr th {\n",
       "        vertical-align: top;\n",
       "    }\n",
       "\n",
       "    .dataframe thead th {\n",
       "        text-align: right;\n",
       "    }\n",
       "</style>\n",
       "<table border=\"1\" class=\"dataframe\">\n",
       "  <thead>\n",
       "    <tr style=\"text-align: right;\">\n",
       "      <th></th>\n",
       "      <th>Action</th>\n",
       "      <th>Adventure</th>\n",
       "      <th>Animation</th>\n",
       "      <th>...</th>\n",
       "      <th>War</th>\n",
       "      <th>Western</th>\n",
       "      <th>year</th>\n",
       "    </tr>\n",
       "  </thead>\n",
       "  <tbody>\n",
       "    <tr>\n",
       "      <th>0</th>\n",
       "      <td>0</td>\n",
       "      <td>0</td>\n",
       "      <td>0</td>\n",
       "      <td>...</td>\n",
       "      <td>0</td>\n",
       "      <td>0</td>\n",
       "      <td>0.9875</td>\n",
       "    </tr>\n",
       "    <tr>\n",
       "      <th>1</th>\n",
       "      <td>0</td>\n",
       "      <td>0</td>\n",
       "      <td>1</td>\n",
       "      <td>...</td>\n",
       "      <td>0</td>\n",
       "      <td>0</td>\n",
       "      <td>0.9980</td>\n",
       "    </tr>\n",
       "    <tr>\n",
       "      <th>2</th>\n",
       "      <td>0</td>\n",
       "      <td>0</td>\n",
       "      <td>0</td>\n",
       "      <td>...</td>\n",
       "      <td>0</td>\n",
       "      <td>0</td>\n",
       "      <td>0.9820</td>\n",
       "    </tr>\n",
       "  </tbody>\n",
       "</table>\n",
       "<p>3 rows × 19 columns</p>\n",
       "</div>"
      ],
      "text/plain": [
       "   Action  Adventure  Animation  ...  War  Western    year\n",
       "0       0          0          0  ...    0        0  0.9875\n",
       "1       0          0          1  ...    0        0  0.9980\n",
       "2       0          0          0  ...    0        0  0.9820\n",
       "\n",
       "[3 rows x 19 columns]"
      ]
     },
     "metadata": {},
     "output_type": "display_data"
    }
   ],
   "source": [
    "# One-hot encode categorical features\n",
    "users_data = Utils.one_hot_encode(users_data, ['occupation', 'gender', 'age'])\n",
    "\n",
    "# Multi-hot encode genres\n",
    "items_data = Utils.multi_hot_encode(items_data, 'genre')\n",
    "\n",
    "# Features Extraction\n",
    "users_data = Utils.extract_category_avg_ratings(users_data, items_data, ratings_data)\n",
    "items_data = Utils.extract_year(items_data)\n",
    "\n",
    "# Move gender columns to the front\n",
    "users_data = Utils.move_column(users_data, ['gender_M', 'gender_F'], 0)\n",
    "\n",
    "# Extend Users and Items data to match the number of rows in the ratings data (Aligned)\n",
    "users_data, items_data = Utils.extend_users_items(users_data, items_data, ratings_data)\n",
    "\n",
    "# Drop unnecessary columns\n",
    "ratings_data = ratings_data.drop(['timestamp'], axis=1) # Explicit Interactions\n",
    "users_data = users_data.drop(['user_id', 'zip_code'], axis=1) # Demographics\n",
    "items_data = items_data.drop(['movie_id', 'title'], axis=1)\n",
    "\n",
    "# Normalize continuous features\n",
    "ratings_data['rating'] = ratings_data['rating'].astype(float) / 5.0\n",
    "items_data['year'] = items_data['year'] / items_data['year'].max()\n",
    "users_data.iloc[:, -18:] = users_data.iloc[:, -18:] / users_data.iloc[:, -18:].max().max()\n",
    "\n",
    "print(\"Ratings shape:\", ratings_data.shape, \"\\nUsers shape:\", users_data.shape, \"\\nItems shape:\", items_data.shape)\n",
    "\n",
    "# A quick look at the data\n",
    "display(ratings_data.head(3), users_data.head(3), items_data.head(3))"
   ]
  },
  {
   "cell_type": "markdown",
   "id": "9ccd8db4",
   "metadata": {
    "papermill": {
     "duration": 0.013399,
     "end_time": "2024-04-22T18:15:29.347414",
     "exception": false,
     "start_time": "2024-04-22T18:15:29.334015",
     "status": "completed"
    },
    "tags": []
   },
   "source": [
    "## Prepare Data"
   ]
  },
  {
   "cell_type": "code",
   "execution_count": 5,
   "id": "39fe3123",
   "metadata": {
    "execution": {
     "iopub.execute_input": "2024-04-22T18:15:29.376195Z",
     "iopub.status.busy": "2024-04-22T18:15:29.375828Z",
     "iopub.status.idle": "2024-04-22T18:15:30.987357Z",
     "shell.execute_reply": "2024-04-22T18:15:30.986222Z"
    },
    "papermill": {
     "duration": 1.628858,
     "end_time": "2024-04-22T18:15:30.989947",
     "exception": false,
     "start_time": "2024-04-22T18:15:29.361089",
     "status": "completed"
    },
    "tags": []
   },
   "outputs": [
    {
     "name": "stdout",
     "output_type": "stream",
     "text": [
      "Ratings shape: (800167, 3) (100021, 3) (100021, 3)\n",
      "Users shape: (800167, 48) (100021, 48) (100021, 48)\n",
      "Items shape: (800167, 19) (100021, 19) (100021, 19)\n"
     ]
    }
   ],
   "source": [
    "# users\n",
    "X_users_train, X_users_test = train_test_split(users_data, test_size=0.2, shuffle=True, random_state=42)\n",
    "X_users_val, X_users_test = train_test_split(X_users_test, test_size=0.5, shuffle=True, random_state=42)\n",
    "\n",
    "# items\n",
    "X_items_train, X_items_test = train_test_split(items_data, test_size=0.2, shuffle=True, random_state=42)\n",
    "X_items_val, X_items_test = train_test_split(X_items_test, test_size=0.5, shuffle=True, random_state=42)\n",
    "\n",
    "# ratings\n",
    "y_ratings_train, y_ratings_test = train_test_split(ratings_data, test_size=0.2, shuffle=True, random_state=42)\n",
    "y_ratings_val, y_ratings_test = train_test_split(y_ratings_test, test_size=0.5, shuffle=True, random_state=42)\n",
    "\n",
    "# Convert to NumPy arrays\n",
    "X_users_train, X_users_val, X_users_test = X_users_train.values, X_users_val.values, X_users_test.values\n",
    "X_items_train, X_items_val, X_items_test = X_items_train.values, X_items_val.values, X_items_test.values\n",
    "y_ratings_train, y_ratings_val, y_ratings_test = y_ratings_train.values, y_ratings_val.values, y_ratings_test.values\n",
    "\n",
    "# Shape of the data\n",
    "print(\"Ratings shape:\", y_ratings_train.shape, y_ratings_val.shape, y_ratings_test.shape)\n",
    "print(\"Users shape:\", X_users_train.shape, X_users_val.shape, X_users_test.shape)\n",
    "print(\"Items shape:\", X_items_train.shape, X_items_val.shape, X_items_test.shape)"
   ]
  },
  {
   "cell_type": "markdown",
   "id": "64dde175",
   "metadata": {
    "papermill": {
     "duration": 0.013787,
     "end_time": "2024-04-22T18:15:31.017864",
     "exception": false,
     "start_time": "2024-04-22T18:15:31.004077",
     "status": "completed"
    },
    "tags": []
   },
   "source": [
    "## Model"
   ]
  },
  {
   "cell_type": "code",
   "execution_count": 6,
   "id": "073bc40b",
   "metadata": {
    "execution": {
     "iopub.execute_input": "2024-04-22T18:15:31.073036Z",
     "iopub.status.busy": "2024-04-22T18:15:31.072109Z",
     "iopub.status.idle": "2024-04-22T18:15:33.705439Z",
     "shell.execute_reply": "2024-04-22T18:15:33.704338Z"
    },
    "papermill": {
     "duration": 2.650637,
     "end_time": "2024-04-22T18:15:33.708039",
     "exception": false,
     "start_time": "2024-04-22T18:15:31.057402",
     "status": "completed"
    },
    "tags": []
   },
   "outputs": [
    {
     "name": "stdout",
     "output_type": "stream",
     "text": [
      "NCF(\n",
      "  (user_embedding_mlp): Embedding(6041, 32)\n",
      "  (item_embedding_mlp): Embedding(3953, 32)\n",
      "  (user_embedding_mf): Embedding(6041, 32)\n",
      "  (item_embedding_mf): Embedding(3953, 32)\n",
      "  (user_features): Sequential(\n",
      "    (0): Linear(in_features=48, out_features=64, bias=True)\n",
      "    (1): ReLU()\n",
      "    (2): Linear(in_features=64, out_features=32, bias=True)\n",
      "    (3): ReLU()\n",
      "  )\n",
      "  (item_features): Sequential(\n",
      "    (0): Linear(in_features=19, out_features=64, bias=True)\n",
      "    (1): ReLU()\n",
      "    (2): Linear(in_features=64, out_features=32, bias=True)\n",
      "    (3): ReLU()\n",
      "  )\n",
      "  (MLP): Sequential(\n",
      "    (0): Linear(in_features=128, out_features=512, bias=True)\n",
      "    (1): ReLU()\n",
      "    (2): Dropout(p=0.1, inplace=False)\n",
      "    (3): Linear(in_features=512, out_features=256, bias=True)\n",
      "    (4): ReLU()\n",
      "    (5): Dropout(p=0.1, inplace=False)\n",
      "    (6): Linear(in_features=256, out_features=128, bias=True)\n",
      "    (7): ReLU()\n",
      "    (8): Dropout(p=0.1, inplace=False)\n",
      "    (9): Linear(in_features=128, out_features=32, bias=True)\n",
      "    (10): ReLU()\n",
      "  )\n",
      "  (neu_mf): Linear(in_features=64, out_features=1, bias=True)\n",
      "  (sigmoid): Sigmoid()\n",
      "  (criterion): MSELoss()\n",
      ") \n",
      "Running on:  cuda\n",
      "Number of parameters: 882,657\n"
     ]
    }
   ],
   "source": [
    "user_dim = users_data.shape[1] # 48\n",
    "item_dim = items_data.shape[1] # 19\n",
    "\n",
    "num_users = users_data_og['user_id'].max()\n",
    "num_items = items_data_og['movie_id'].max()\n",
    "\n",
    "embedding_dim = 32 # number of latent factors\n",
    "\n",
    "model = NCF(\n",
    "    num_users=num_users,\n",
    "    num_items=num_items,\n",
    "    user_dim=user_dim,\n",
    "    item_dim=item_dim,\n",
    "    num_factors=embedding_dim,\n",
    "    mode='explicit',\n",
    "    criterion=torch.nn.MSELoss(),\n",
    "    dropout=0.1,\n",
    "    lr=1e-3,\n",
    "    weight_decay=1e-5, # L2 regularization\n",
    "    verbose=True,\n",
    "    gpu=True\n",
    ")\n",
    "\n",
    "early_stopping = EarlyStopping(patience=3, delta=0.0002, path='weights/explicit.pth') # early stops after 2 consecutive epochs with minor loss decrease/increase\n",
    "scheduler = torch.optim.lr_scheduler.ReduceLROnPlateau(model.optimizer, mode='min', factor=0.1, patience=0) # reduces learning rate by factor of 0.1 when no improvement is seen"
   ]
  },
  {
   "cell_type": "code",
   "execution_count": 7,
   "id": "7e2b366f",
   "metadata": {
    "execution": {
     "iopub.execute_input": "2024-04-22T18:15:33.738021Z",
     "iopub.status.busy": "2024-04-22T18:15:33.737025Z",
     "iopub.status.idle": "2024-04-22T18:35:25.882504Z",
     "shell.execute_reply": "2024-04-22T18:35:25.881316Z"
    },
    "papermill": {
     "duration": 1192.16347,
     "end_time": "2024-04-22T18:35:25.885238",
     "exception": false,
     "start_time": "2024-04-22T18:15:33.721768",
     "status": "completed"
    },
    "tags": []
   },
   "outputs": [
    {
     "name": "stdout",
     "output_type": "stream",
     "text": [
      "Epoch 1/12\n",
      "391/391 - loss: 0.0355 - Val Loss: 0.0325 - R2: 0.3527 - MAE: 0.1425 - MSE: 0.0325 - RMSE: 0.1803 - lr: 0.001\n",
      "Epoch 2/12\n",
      "391/391 - loss: 0.0317 - Val Loss: 0.0311 - R2: 0.3809 - MAE: 0.1398 - MSE: 0.0311 - RMSE: 0.1763 - lr: 0.001\n",
      "Epoch 3/12\n",
      "391/391 - loss: 0.0301 - Val Loss: 0.0303 - R2: 0.3977 - MAE: 0.1369 - MSE: 0.0303 - RMSE: 0.1739 - lr: 0.001\n",
      "Epoch 4/12\n",
      "391/391 - loss: 0.0291 - Val Loss: 0.0299 - R2: 0.4050 - MAE: 0.1368 - MSE: 0.0299 - RMSE: 0.1729 - lr: 0.001\n",
      "Epoch 5/12\n",
      "391/391 - loss: 0.0284 - Val Loss: 0.0295 - R2: 0.4128 - MAE: 0.1352 - MSE: 0.0295 - RMSE: 0.1717 - lr: 0.001\n",
      "Epoch 6/12\n",
      "391/391 - loss: 0.0278 - Val Loss: 0.0294 - R2: 0.4150 - MAE: 0.1348 - MSE: 0.0294 - RMSE: 0.1714 - lr: 0.001\n",
      "Epoch 7/12\n",
      "391/391 - loss: 0.0274 - Val Loss: 0.0292 - R2: 0.4183 - MAE: 0.1355 - MSE: 0.0292 - RMSE: 0.1709 - lr: 0.001\n",
      "Epoch 8/12\n",
      "391/391 - loss: 0.0269 - Val Loss: 0.0292 - R2: 0.4182 - MAE: 0.1340 - MSE: 0.0292 - RMSE: 0.1709 - lr: 0.0001\n",
      "Epoch 9/12\n",
      "391/391 - loss: 0.0247 - Val Loss: 0.0292 - R2: 0.4183 - MAE: 0.1337 - MSE: 0.0292 - RMSE: 0.1709 - lr: 1e-05\n",
      "Epoch 10/12\n",
      "391/391 - loss: 0.0241 - Val Loss: 0.0292 - R2: 0.4179 - MAE: 0.1336 - MSE: 0.0292 - RMSE: 0.1710 - lr: 1.0000000000000002e-06\n",
      "Early stopping\n"
     ]
    }
   ],
   "source": [
    "history = model.fit(\n",
    "    X=[y_ratings_train[:, 0], y_ratings_train[:, 1], X_users_train, X_items_train],\n",
    "    y=y_ratings_train[:, 2],\n",
    "    X_val=[y_ratings_val[:, 0], y_ratings_val[:, 1], X_users_val, X_items_val],\n",
    "    y_val=y_ratings_val[:, 2],\n",
    "    epochs=12,\n",
    "    batch_size=2048,\n",
    "    early_stopping=early_stopping,\n",
    "    scheduler=scheduler\n",
    ")"
   ]
  },
  {
   "cell_type": "code",
   "execution_count": 8,
   "id": "3c6fdd38",
   "metadata": {},
   "outputs": [
    {
     "data": {
      "image/png": "[encoded data removed]",
      "text/plain": [
       "<Figure size 1200x400 with 2 Axes>"
      ]
     },
     "metadata": {},
     "output_type": "display_data"
    }
   ],
   "source": [
    "# Plots\n",
    "Utils.plot_metrics(history, 'Explicit Feedback')"
   ]
  },
  {
   "cell_type": "code",
   "execution_count": 9,
   "id": "4d515cd5",
   "metadata": {
    "execution": {
     "iopub.execute_input": "2024-04-22T18:35:26.217502Z",
     "iopub.status.busy": "2024-04-22T18:35:26.217101Z",
     "iopub.status.idle": "2024-04-22T18:35:30.571972Z",
     "shell.execute_reply": "2024-04-22T18:35:30.570924Z"
    },
    "papermill": {
     "duration": 4.433436,
     "end_time": "2024-04-22T18:35:30.574344",
     "exception": false,
     "start_time": "2024-04-22T18:35:26.140908",
     "status": "completed"
    },
    "tags": []
   },
   "outputs": [
    {
     "name": "stdout",
     "output_type": "stream",
     "text": [
      "Average Loss: 0.0295, R2: 0.4119, MAE: 0.1340, MSE: 0.0295, RMSE: 0.1716\n"
     ]
    }
   ],
   "source": [
    "model.eval() # set model to evaluation mode (disables dropout layers)\n",
    "\n",
    "# Evaluate the model\n",
    "avg_loss, r2, mae, mse, rmse = model.evaluate([\n",
    "    y_ratings_test[:, 0],\n",
    "    y_ratings_test[:, 1],\n",
    "    X_users_test,\n",
    "    X_items_test],\n",
    "    y_ratings_test[:, 2],\n",
    "    batch_size=256\n",
    "    )\n",
    "\n",
    "print(f\"Average Loss: {avg_loss:.4f}, R2: {r2:.4f}, MAE: {mae:.4f}, MSE: {mse:.4f}, RMSE: {rmse:.4f}\")"
   ]
  },
  {
   "cell_type": "markdown",
   "id": "1db2686d",
   "metadata": {
    "papermill": {
     "duration": 0.080969,
     "end_time": "2024-04-22T18:35:30.738730",
     "exception": false,
     "start_time": "2024-04-22T18:35:30.657761",
     "status": "completed"
    },
    "tags": []
   },
   "source": [
    "## Testing"
   ]
  },
  {
   "cell_type": "markdown",
   "id": "93ab719f",
   "metadata": {
    "papermill": {
     "duration": 0.081203,
     "end_time": "2024-04-22T18:35:30.901596",
     "exception": false,
     "start_time": "2024-04-22T18:35:30.820393",
     "status": "completed"
    },
    "tags": []
   },
   "source": [
    "### New user\n",
    "**Cold start** problem: When a new user (new user_id) joins the platform, we don't have the embeddings for that user_id (OOV).\n",
    "\n",
    "Multiple approaches to tackle this:\n",
    "- Discard the new user_id and **recommend based on the their pre-defined preferences** on sign-up. <span style=\"color: #da3b3b\">(Simple, Ineffective)</span>\n",
    "- Use the **average of all user embeddings**. <span style=\"color: #da3b3b\">(Simple, Ineffective)</span>\n",
    "- Add an **extra user_id embedding before training** the model, then assign new users to this embedding. <span style=\"color: #da3b3b\">(Simple, Ineffective)</span>\n",
    "- Use a **session-based recommendation system** like BST (Behavior Sequence Transformer), GRU4Rec (Gated Recurrent Unit for Session-based Recommendations) till we have enough interactions for that user to train the embeddings. <span style=\"color: #da703b\">(Widely used) (Complex, Effective)</span>\n",
    "- Use the **average of the embeddings of similar users** e.g. cosine similarity. <span style=\"color: #52da3b\">(Simple, Effective)</span> (We'll use this approach)"
   ]
  },
  {
   "cell_type": "code",
   "execution_count": 8,
   "id": "29db6659",
   "metadata": {
    "execution": {
     "iopub.execute_input": "2024-04-22T18:35:31.063307Z",
     "iopub.status.busy": "2024-04-22T18:35:31.062927Z",
     "iopub.status.idle": "2024-04-22T18:35:31.106779Z",
     "shell.execute_reply": "2024-04-22T18:35:31.105809Z"
    },
    "papermill": {
     "duration": 0.126787,
     "end_time": "2024-04-22T18:35:31.109092",
     "exception": false,
     "start_time": "2024-04-22T18:35:30.982305",
     "status": "completed"
    },
    "tags": []
   },
   "outputs": [],
   "source": [
    "new_user = {\n",
    "    'id': 7000, # new user id\n",
    "    'age': 20,\n",
    "    'occupation': 'engineer',\n",
    "    'gender': 'F',\n",
    "    'genres': ['Children', 'Comedy', 'Animation'],\n",
    "}\n",
    "\n",
    "user_id, user, weights, _ = Utils.preprocess_user(\n",
    "                                user=new_user,\n",
    "                                num_items=items_data_og.shape[0],\n",
    "                                users=users_data.drop_duplicates(inplace=False).values,\n",
    "                                weights=[model.user_embedding_mlp.weight.data.cpu().numpy(), model.user_embedding_mf.weight.data.cpu().numpy()]\n",
    "                                )\n",
    "items = Utils.preprocess_items(items_data_og)\n",
    "\n",
    "user_id, user = user_id.to(model.device), user.to(model.device)"
   ]
  },
  {
   "cell_type": "code",
   "execution_count": 9,
   "id": "4f0315f1",
   "metadata": {
    "execution": {
     "iopub.execute_input": "2024-04-22T18:35:31.269275Z",
     "iopub.status.busy": "2024-04-22T18:35:31.268039Z",
     "iopub.status.idle": "2024-04-22T18:35:31.543970Z",
     "shell.execute_reply": "2024-04-22T18:35:31.542897Z"
    },
    "papermill": {
     "duration": 0.358725,
     "end_time": "2024-04-22T18:35:31.546267",
     "exception": false,
     "start_time": "2024-04-22T18:35:31.187542",
     "status": "completed"
    },
    "tags": []
   },
   "outputs": [
    {
     "data": {
      "text/html": [
       "<div>\n",
       "<style scoped>\n",
       "    .dataframe tbody tr th:only-of-type {\n",
       "        vertical-align: middle;\n",
       "    }\n",
       "\n",
       "    .dataframe tbody tr th {\n",
       "        vertical-align: top;\n",
       "    }\n",
       "\n",
       "    .dataframe thead th {\n",
       "        text-align: right;\n",
       "    }\n",
       "</style>\n",
       "<table border=\"1\" class=\"dataframe\">\n",
       "  <thead>\n",
       "    <tr style=\"text-align: right;\">\n",
       "      <th></th>\n",
       "      <th>movie_id</th>\n",
       "      <th>title</th>\n",
       "      <th>genre</th>\n",
       "      <th>predicted_rating</th>\n",
       "    </tr>\n",
       "  </thead>\n",
       "  <tbody>\n",
       "    <tr>\n",
       "      <th>0</th>\n",
       "      <td>1148</td>\n",
       "      <td>Wrong Trousers, The (1993)</td>\n",
       "      <td>Animation|Comedy</td>\n",
       "      <td>4.33</td>\n",
       "    </tr>\n",
       "    <tr>\n",
       "      <th>1</th>\n",
       "      <td>720</td>\n",
       "      <td>Wallace &amp; Gromit: The Best of Aardman Animatio...</td>\n",
       "      <td>Animation</td>\n",
       "      <td>4.27</td>\n",
       "    </tr>\n",
       "    <tr>\n",
       "      <th>2</th>\n",
       "      <td>3114</td>\n",
       "      <td>Toy Story 2 (1999)</td>\n",
       "      <td>Animation|Children's|Comedy</td>\n",
       "      <td>4.21</td>\n",
       "    </tr>\n",
       "    <tr>\n",
       "      <th>3</th>\n",
       "      <td>1</td>\n",
       "      <td>Toy Story (1995)</td>\n",
       "      <td>Animation|Children's|Comedy</td>\n",
       "      <td>4.03</td>\n",
       "    </tr>\n",
       "    <tr>\n",
       "      <th>4</th>\n",
       "      <td>1223</td>\n",
       "      <td>Grand Day Out, A (1992)</td>\n",
       "      <td>Animation|Comedy</td>\n",
       "      <td>3.99</td>\n",
       "    </tr>\n",
       "    <tr>\n",
       "      <th>5</th>\n",
       "      <td>1136</td>\n",
       "      <td>Monty Python and the Holy Grail (1974)</td>\n",
       "      <td>Comedy</td>\n",
       "      <td>3.98</td>\n",
       "    </tr>\n",
       "    <tr>\n",
       "      <th>6</th>\n",
       "      <td>2355</td>\n",
       "      <td>Bug's Life, A (1998)</td>\n",
       "      <td>Animation|Children's|Comedy</td>\n",
       "      <td>3.97</td>\n",
       "    </tr>\n",
       "    <tr>\n",
       "      <th>7</th>\n",
       "      <td>3429</td>\n",
       "      <td>Creature Comforts (1990)</td>\n",
       "      <td>Animation|Comedy</td>\n",
       "      <td>3.89</td>\n",
       "    </tr>\n",
       "    <tr>\n",
       "      <th>8</th>\n",
       "      <td>364</td>\n",
       "      <td>Lion King, The (1994)</td>\n",
       "      <td>Animation|Children's|Musical</td>\n",
       "      <td>3.86</td>\n",
       "    </tr>\n",
       "    <tr>\n",
       "      <th>9</th>\n",
       "      <td>3396</td>\n",
       "      <td>Muppet Movie, The (1979)</td>\n",
       "      <td>Children's|Comedy</td>\n",
       "      <td>3.86</td>\n",
       "    </tr>\n",
       "  </tbody>\n",
       "</table>\n",
       "</div>"
      ],
      "text/plain": [
       "   movie_id                                              title  \\\n",
       "0      1148                         Wrong Trousers, The (1993)   \n",
       "1       720  Wallace & Gromit: The Best of Aardman Animatio...   \n",
       "2      3114                                 Toy Story 2 (1999)   \n",
       "3         1                                   Toy Story (1995)   \n",
       "4      1223                            Grand Day Out, A (1992)   \n",
       "5      1136             Monty Python and the Holy Grail (1974)   \n",
       "6      2355                               Bug's Life, A (1998)   \n",
       "7      3429                           Creature Comforts (1990)   \n",
       "8       364                              Lion King, The (1994)   \n",
       "9      3396                           Muppet Movie, The (1979)   \n",
       "\n",
       "                          genre  predicted_rating  \n",
       "0              Animation|Comedy              4.33  \n",
       "1                     Animation              4.27  \n",
       "2   Animation|Children's|Comedy              4.21  \n",
       "3   Animation|Children's|Comedy              4.03  \n",
       "4              Animation|Comedy              3.99  \n",
       "5                        Comedy              3.98  \n",
       "6   Animation|Children's|Comedy              3.97  \n",
       "7              Animation|Comedy              3.89  \n",
       "8  Animation|Children's|Musical              3.86  \n",
       "9             Children's|Comedy              3.86  "
      ]
     },
     "execution_count": 9,
     "metadata": {},
     "output_type": "execute_result"
    }
   ],
   "source": [
    "############### Pipeline ###############\n",
    "\n",
    "# 1- Retrieval Stage\n",
    "movies = Utils.retrieve(\n",
    "    movies=items,\n",
    "    user=user.detach().cpu().numpy(),\n",
    "    num_genres=3,\n",
    "    k=300, # retrieve 300 relevant movies. Note: higher k leads to better recommendations but slower inference\n",
    "    random_state=0\n",
    ")\n",
    "\n",
    "# 2- Filtering Stage\n",
    "movie_ids, movies = Utils.filter( # Removes already-rated / duplicate movies\n",
    "    movies=movies,\n",
    "    ratings=ratings_data_og,\n",
    "    user_id=new_user['id']\n",
    ")\n",
    "movie_ids, movies = movie_ids.to(model.device), movies.to(model.device)\n",
    "\n",
    "# 3- Ranking Stage\n",
    "y_pred = model(\n",
    "    user_id[:len(movies)],\n",
    "    movie_ids,\n",
    "    user[:len(movies)],\n",
    "    movies,\n",
    "    weights\n",
    ").cpu().detach().numpy()\n",
    "\n",
    "# 4- Ordering Stage\n",
    "movies_retrieved = items_data_og[items_data_og['movie_id'].isin(movie_ids.cpu().numpy())].sort_values(by='movie_id', key=lambda x: pd.Categorical(x, categories=movie_ids.cpu().numpy(), ordered=True))\n",
    "Utils.order(y_pred, movies_retrieved, 'explicit', top_k=10)"
   ]
  },
  {
   "cell_type": "markdown",
   "id": "8ef81891",
   "metadata": {
    "papermill": {
     "duration": 0.080699,
     "end_time": "2024-04-22T18:35:31.708279",
     "exception": false,
     "start_time": "2024-04-22T18:35:31.627580",
     "status": "completed"
    },
    "tags": []
   },
   "source": [
    "### Existing user"
   ]
  },
  {
   "cell_type": "code",
   "execution_count": 10,
   "id": "0bd84429",
   "metadata": {
    "execution": {
     "iopub.execute_input": "2024-04-22T18:35:31.871527Z",
     "iopub.status.busy": "2024-04-22T18:35:31.871002Z",
     "iopub.status.idle": "2024-04-22T18:35:31.916830Z",
     "shell.execute_reply": "2024-04-22T18:35:31.915700Z"
    },
    "papermill": {
     "duration": 0.129848,
     "end_time": "2024-04-22T18:35:31.919517",
     "exception": false,
     "start_time": "2024-04-22T18:35:31.789669",
     "status": "completed"
    },
    "tags": []
   },
   "outputs": [
    {
     "name": "stdout",
     "output_type": "stream",
     "text": [
      "User id: 1000 top 3 genres: ['Crime' 'Drama' 'War']\n"
     ]
    }
   ],
   "source": [
    "old_user = {\n",
    "    'id': 1000\n",
    "}\n",
    "\n",
    "# preprocess the old user\n",
    "user_id, user, _, _ = Utils.preprocess_user(\n",
    "                                user=old_user,\n",
    "                                num_items=items_data_og.shape[0],\n",
    "                                users=users_data.drop_duplicates(inplace=False).values,\n",
    "                                topk=3, # top 3 genres the user has interacted with. MAX: 18\n",
    "                                verbose=True\n",
    "                                )\n",
    "items = Utils.preprocess_items(items_data_og)\n",
    "\n",
    "user_id, user = user_id.to(model.device), user.to(model.device)"
   ]
  },
  {
   "cell_type": "code",
   "execution_count": 11,
   "id": "342c5d6e",
   "metadata": {
    "execution": {
     "iopub.execute_input": "2024-04-22T18:35:32.082127Z",
     "iopub.status.busy": "2024-04-22T18:35:32.081698Z",
     "iopub.status.idle": "2024-04-22T18:35:32.355993Z",
     "shell.execute_reply": "2024-04-22T18:35:32.354879Z"
    },
    "papermill": {
     "duration": 0.357045,
     "end_time": "2024-04-22T18:35:32.358707",
     "exception": false,
     "start_time": "2024-04-22T18:35:32.001662",
     "status": "completed"
    },
    "tags": []
   },
   "outputs": [
    {
     "data": {
      "text/html": [
       "<div>\n",
       "<style scoped>\n",
       "    .dataframe tbody tr th:only-of-type {\n",
       "        vertical-align: middle;\n",
       "    }\n",
       "\n",
       "    .dataframe tbody tr th {\n",
       "        vertical-align: top;\n",
       "    }\n",
       "\n",
       "    .dataframe thead th {\n",
       "        text-align: right;\n",
       "    }\n",
       "</style>\n",
       "<table border=\"1\" class=\"dataframe\">\n",
       "  <thead>\n",
       "    <tr style=\"text-align: right;\">\n",
       "      <th></th>\n",
       "      <th>movie_id</th>\n",
       "      <th>title</th>\n",
       "      <th>genre</th>\n",
       "      <th>predicted_score</th>\n",
       "    </tr>\n",
       "  </thead>\n",
       "  <tbody>\n",
       "    <tr>\n",
       "      <th>0</th>\n",
       "      <td>50</td>\n",
       "      <td>Usual Suspects, The (1995)</td>\n",
       "      <td>Crime|Thriller</td>\n",
       "      <td>4.78</td>\n",
       "    </tr>\n",
       "    <tr>\n",
       "      <th>1</th>\n",
       "      <td>110</td>\n",
       "      <td>Braveheart (1995)</td>\n",
       "      <td>Action|Drama|War</td>\n",
       "      <td>4.70</td>\n",
       "    </tr>\n",
       "    <tr>\n",
       "      <th>2</th>\n",
       "      <td>1262</td>\n",
       "      <td>Great Escape, The (1963)</td>\n",
       "      <td>Adventure|War</td>\n",
       "      <td>4.67</td>\n",
       "    </tr>\n",
       "    <tr>\n",
       "      <th>3</th>\n",
       "      <td>356</td>\n",
       "      <td>Forrest Gump (1994)</td>\n",
       "      <td>Comedy|Romance|War</td>\n",
       "      <td>4.63</td>\n",
       "    </tr>\n",
       "    <tr>\n",
       "      <th>4</th>\n",
       "      <td>1242</td>\n",
       "      <td>Glory (1989)</td>\n",
       "      <td>Action|Drama|War</td>\n",
       "      <td>4.56</td>\n",
       "    </tr>\n",
       "    <tr>\n",
       "      <th>5</th>\n",
       "      <td>1263</td>\n",
       "      <td>Deer Hunter, The (1978)</td>\n",
       "      <td>Drama|War</td>\n",
       "      <td>4.54</td>\n",
       "    </tr>\n",
       "    <tr>\n",
       "      <th>6</th>\n",
       "      <td>912</td>\n",
       "      <td>Casablanca (1942)</td>\n",
       "      <td>Drama|Romance|War</td>\n",
       "      <td>4.53</td>\n",
       "    </tr>\n",
       "    <tr>\n",
       "      <th>7</th>\n",
       "      <td>1287</td>\n",
       "      <td>Ben-Hur (1959)</td>\n",
       "      <td>Action|Adventure|Drama</td>\n",
       "      <td>4.53</td>\n",
       "    </tr>\n",
       "    <tr>\n",
       "      <th>8</th>\n",
       "      <td>1224</td>\n",
       "      <td>Henry V (1989)</td>\n",
       "      <td>Drama|War</td>\n",
       "      <td>4.52</td>\n",
       "    </tr>\n",
       "    <tr>\n",
       "      <th>9</th>\n",
       "      <td>1213</td>\n",
       "      <td>GoodFellas (1990)</td>\n",
       "      <td>Crime|Drama</td>\n",
       "      <td>4.51</td>\n",
       "    </tr>\n",
       "  </tbody>\n",
       "</table>\n",
       "</div>"
      ],
      "text/plain": [
       "   movie_id                       title                   genre  \\\n",
       "0        50  Usual Suspects, The (1995)          Crime|Thriller   \n",
       "1       110           Braveheart (1995)        Action|Drama|War   \n",
       "2      1262    Great Escape, The (1963)           Adventure|War   \n",
       "3       356         Forrest Gump (1994)      Comedy|Romance|War   \n",
       "4      1242                Glory (1989)        Action|Drama|War   \n",
       "5      1263     Deer Hunter, The (1978)               Drama|War   \n",
       "6       912           Casablanca (1942)       Drama|Romance|War   \n",
       "7      1287              Ben-Hur (1959)  Action|Adventure|Drama   \n",
       "8      1224              Henry V (1989)               Drama|War   \n",
       "9      1213           GoodFellas (1990)             Crime|Drama   \n",
       "\n",
       "   predicted_score  \n",
       "0             4.78  \n",
       "1             4.70  \n",
       "2             4.67  \n",
       "3             4.63  \n",
       "4             4.56  \n",
       "5             4.54  \n",
       "6             4.53  \n",
       "7             4.53  \n",
       "8             4.52  \n",
       "9             4.51  "
      ]
     },
     "execution_count": 11,
     "metadata": {},
     "output_type": "execute_result"
    }
   ],
   "source": [
    "############### Pipeline ###############\n",
    "\n",
    "# 1- Retrieval Stage\n",
    "movies = Utils.retrieve(\n",
    "    movies=items,\n",
    "    user=user.detach().cpu().numpy(),\n",
    "    k=300, # retrieve 300 relevant movies. Note: higher k leads to better recommendations but slower inference\n",
    "    random_state=0\n",
    ")\n",
    "\n",
    "# 2- Filtering Stage\n",
    "movie_ids, movies = Utils.filter( # Removes already-rated / duplicate movies\n",
    "    movies=movies,\n",
    "    ratings=ratings_data_og,\n",
    "    user_id=new_user['id']\n",
    ")\n",
    "movie_ids, movies = movie_ids.to(model.device), movies.to(model.device)\n",
    "\n",
    "# 3- Ranking Stage\n",
    "y_pred = model(\n",
    "    user_id[:len(movies)],\n",
    "    movie_ids,\n",
    "    user[:len(movies)],\n",
    "    movies\n",
    ").cpu().detach().numpy()\n",
    "\n",
    "# 4- Ordering Stage\n",
    "movies_retrieved = items_data_og[items_data_og['movie_id'].isin(movie_ids.cpu().numpy())].sort_values(by='movie_id', key=lambda x: pd.Categorical(x, categories=movie_ids.cpu().numpy(), ordered=True))\n",
    "Utils.order(y_pred, movies_retrieved, 'eplicit', top_k=10)"
   ]
  },
  {
   "cell_type": "markdown",
   "id": "15e27df2",
   "metadata": {
    "papermill": {
     "duration": 0.08054,
     "end_time": "2024-04-22T18:35:32.519751",
     "exception": false,
     "start_time": "2024-04-22T18:35:32.439211",
     "status": "completed"
    },
    "tags": []
   },
   "source": [
    "# Implicit Feedback\n",
    "- Implicit feedback is when user preferences are inferred from user actions (e.g., clicks, views, purchases).\n",
    "- Predict the likelihood that a user will interact with an item (e.g., click on a movie)."
   ]
  },
  {
   "cell_type": "code",
   "execution_count": 12,
   "id": "eb9312ee",
   "metadata": {
    "execution": {
     "iopub.execute_input": "2024-04-22T18:35:32.683765Z",
     "iopub.status.busy": "2024-04-22T18:35:32.683355Z",
     "iopub.status.idle": "2024-04-22T18:35:32.691625Z",
     "shell.execute_reply": "2024-04-22T18:35:32.690563Z"
    },
    "papermill": {
     "duration": 0.095124,
     "end_time": "2024-04-22T18:35:32.693889",
     "exception": false,
     "start_time": "2024-04-22T18:35:32.598765",
     "status": "completed"
    },
    "tags": []
   },
   "outputs": [],
   "source": [
    "users_data, items_data, ratings_data = users_data_og, items_data_og, ratings_data_og"
   ]
  },
  {
   "cell_type": "markdown",
   "id": "0c6a3fbb",
   "metadata": {
    "papermill": {
     "duration": 0.080093,
     "end_time": "2024-04-22T18:35:32.855471",
     "exception": false,
     "start_time": "2024-04-22T18:35:32.775378",
     "status": "completed"
    },
    "tags": []
   },
   "source": [
    "## Preprocessing & Feature Extraction\n",
    "- Here we have to transform the data, MovieLens Dataset, into implicit feedback data (1: interacted, 0: hasn't interacted (by negative sampling))"
   ]
  },
  {
   "cell_type": "markdown",
   "id": "cfebd1b0",
   "metadata": {
    "papermill": {
     "duration": 0.08061,
     "end_time": "2024-04-22T18:35:33.016841",
     "exception": false,
     "start_time": "2024-04-22T18:35:32.936231",
     "status": "completed"
    },
    "tags": []
   },
   "source": [
    "Extracted features:\n",
    "- Frequency of interactions per genre\n",
    "- Year from the title"
   ]
  },
  {
   "cell_type": "code",
   "execution_count": 13,
   "id": "6f9b3cee",
   "metadata": {
    "execution": {
     "iopub.execute_input": "2024-04-22T18:35:33.184257Z",
     "iopub.status.busy": "2024-04-22T18:35:33.183861Z",
     "iopub.status.idle": "2024-04-22T18:35:50.866792Z",
     "shell.execute_reply": "2024-04-22T18:35:50.865556Z"
    },
    "papermill": {
     "duration": 17.769694,
     "end_time": "2024-04-22T18:35:50.869021",
     "exception": false,
     "start_time": "2024-04-22T18:35:33.099327",
     "status": "completed"
    },
    "tags": []
   },
   "outputs": [
    {
     "name": "stdout",
     "output_type": "stream",
     "text": [
      "Ratings shape: (1121009, 3) \n",
      "Users shape: (1121009, 48) \n",
      "Items shape: (1121009, 19)\n"
     ]
    },
    {
     "data": {
      "text/html": [
       "<div>\n",
       "<style scoped>\n",
       "    .dataframe tbody tr th:only-of-type {\n",
       "        vertical-align: middle;\n",
       "    }\n",
       "\n",
       "    .dataframe tbody tr th {\n",
       "        vertical-align: top;\n",
       "    }\n",
       "\n",
       "    .dataframe thead th {\n",
       "        text-align: right;\n",
       "    }\n",
       "</style>\n",
       "<table border=\"1\" class=\"dataframe\">\n",
       "  <thead>\n",
       "    <tr style=\"text-align: right;\">\n",
       "      <th></th>\n",
       "      <th>user_id</th>\n",
       "      <th>movie_id</th>\n",
       "      <th>rating</th>\n",
       "    </tr>\n",
       "  </thead>\n",
       "  <tbody>\n",
       "    <tr>\n",
       "      <th>0</th>\n",
       "      <td>1</td>\n",
       "      <td>1193</td>\n",
       "      <td>1</td>\n",
       "    </tr>\n",
       "    <tr>\n",
       "      <th>1</th>\n",
       "      <td>1</td>\n",
       "      <td>661</td>\n",
       "      <td>1</td>\n",
       "    </tr>\n",
       "    <tr>\n",
       "      <th>2</th>\n",
       "      <td>1</td>\n",
       "      <td>914</td>\n",
       "      <td>1</td>\n",
       "    </tr>\n",
       "  </tbody>\n",
       "</table>\n",
       "</div>"
      ],
      "text/plain": [
       "   user_id  movie_id  rating\n",
       "0        1      1193       1\n",
       "1        1       661       1\n",
       "2        1       914       1"
      ]
     },
     "metadata": {},
     "output_type": "display_data"
    },
    {
     "data": {
      "text/html": [
       "<div>\n",
       "<style scoped>\n",
       "    .dataframe tbody tr th:only-of-type {\n",
       "        vertical-align: middle;\n",
       "    }\n",
       "\n",
       "    .dataframe tbody tr th {\n",
       "        vertical-align: top;\n",
       "    }\n",
       "\n",
       "    .dataframe thead th {\n",
       "        text-align: right;\n",
       "    }\n",
       "</style>\n",
       "<table border=\"1\" class=\"dataframe\">\n",
       "  <thead>\n",
       "    <tr style=\"text-align: right;\">\n",
       "      <th></th>\n",
       "      <th>gender_M</th>\n",
       "      <th>gender_F</th>\n",
       "      <th>occupation_0</th>\n",
       "      <th>...</th>\n",
       "      <th>freq_Thriller</th>\n",
       "      <th>freq_War</th>\n",
       "      <th>freq_Western</th>\n",
       "    </tr>\n",
       "  </thead>\n",
       "  <tbody>\n",
       "    <tr>\n",
       "      <th>0</th>\n",
       "      <td>0</td>\n",
       "      <td>1</td>\n",
       "      <td>0</td>\n",
       "      <td>...</td>\n",
       "      <td>0.056604</td>\n",
       "      <td>0.037736</td>\n",
       "      <td>0.0</td>\n",
       "    </tr>\n",
       "    <tr>\n",
       "      <th>1</th>\n",
       "      <td>0</td>\n",
       "      <td>1</td>\n",
       "      <td>0</td>\n",
       "      <td>...</td>\n",
       "      <td>0.056604</td>\n",
       "      <td>0.037736</td>\n",
       "      <td>0.0</td>\n",
       "    </tr>\n",
       "    <tr>\n",
       "      <th>2</th>\n",
       "      <td>0</td>\n",
       "      <td>1</td>\n",
       "      <td>0</td>\n",
       "      <td>...</td>\n",
       "      <td>0.056604</td>\n",
       "      <td>0.037736</td>\n",
       "      <td>0.0</td>\n",
       "    </tr>\n",
       "  </tbody>\n",
       "</table>\n",
       "<p>3 rows × 48 columns</p>\n",
       "</div>"
      ],
      "text/plain": [
       "   gender_M  gender_F  occupation_0  ...  freq_Thriller  freq_War  \\\n",
       "0         0         1             0  ...       0.056604  0.037736   \n",
       "1         0         1             0  ...       0.056604  0.037736   \n",
       "2         0         1             0  ...       0.056604  0.037736   \n",
       "\n",
       "   freq_Western  \n",
       "0           0.0  \n",
       "1           0.0  \n",
       "2           0.0  \n",
       "\n",
       "[3 rows x 48 columns]"
      ]
     },
     "metadata": {},
     "output_type": "display_data"
    },
    {
     "data": {
      "text/html": [
       "<div>\n",
       "<style scoped>\n",
       "    .dataframe tbody tr th:only-of-type {\n",
       "        vertical-align: middle;\n",
       "    }\n",
       "\n",
       "    .dataframe tbody tr th {\n",
       "        vertical-align: top;\n",
       "    }\n",
       "\n",
       "    .dataframe thead th {\n",
       "        text-align: right;\n",
       "    }\n",
       "</style>\n",
       "<table border=\"1\" class=\"dataframe\">\n",
       "  <thead>\n",
       "    <tr style=\"text-align: right;\">\n",
       "      <th></th>\n",
       "      <th>Action</th>\n",
       "      <th>Adventure</th>\n",
       "      <th>Animation</th>\n",
       "      <th>...</th>\n",
       "      <th>War</th>\n",
       "      <th>Western</th>\n",
       "      <th>year</th>\n",
       "    </tr>\n",
       "  </thead>\n",
       "  <tbody>\n",
       "    <tr>\n",
       "      <th>0</th>\n",
       "      <td>0</td>\n",
       "      <td>0</td>\n",
       "      <td>0</td>\n",
       "      <td>...</td>\n",
       "      <td>0</td>\n",
       "      <td>0</td>\n",
       "      <td>0.9875</td>\n",
       "    </tr>\n",
       "    <tr>\n",
       "      <th>1</th>\n",
       "      <td>0</td>\n",
       "      <td>0</td>\n",
       "      <td>1</td>\n",
       "      <td>...</td>\n",
       "      <td>0</td>\n",
       "      <td>0</td>\n",
       "      <td>0.9980</td>\n",
       "    </tr>\n",
       "    <tr>\n",
       "      <th>2</th>\n",
       "      <td>0</td>\n",
       "      <td>0</td>\n",
       "      <td>0</td>\n",
       "      <td>...</td>\n",
       "      <td>0</td>\n",
       "      <td>0</td>\n",
       "      <td>0.9820</td>\n",
       "    </tr>\n",
       "  </tbody>\n",
       "</table>\n",
       "<p>3 rows × 19 columns</p>\n",
       "</div>"
      ],
      "text/plain": [
       "   Action  Adventure  Animation  ...  War  Western    year\n",
       "0       0          0          0  ...    0        0  0.9875\n",
       "1       0          0          1  ...    0        0  0.9980\n",
       "2       0          0          0  ...    0        0  0.9820\n",
       "\n",
       "[3 rows x 19 columns]"
      ]
     },
     "metadata": {},
     "output_type": "display_data"
    }
   ],
   "source": [
    "# One-hot encode categorical features\n",
    "users_data = Utils.one_hot_encode(users_data, ['occupation', 'gender', 'age'])\n",
    "\n",
    "# Multi-hot encode genres\n",
    "items_data = Utils.multi_hot_encode(items_data, 'genre')\n",
    "\n",
    "# Features Extraction\n",
    "users_data = Utils.extract_category_freq(users_data, items_data, ratings_data)\n",
    "items_data = Utils.extract_year(items_data)\n",
    "\n",
    "# Negative Sampling for implicit feedback\n",
    "ratings_data = Utils.negative_sampling(ratings_data, items_data, num_negatives=20) # Adds 20 * 6040 rows (num_negatives * num_users) \n",
    "\n",
    "# Move gender columns to the front\n",
    "users_data = Utils.move_column(users_data, ['gender_M', 'gender_F'], 0)\n",
    "\n",
    "# Extend Users and Items data to match the number of rows in the ratings data\n",
    "users_data, items_data = Utils.extend_users_items(users_data, items_data, ratings_data)\n",
    "\n",
    "# Normalize continuous features\n",
    "items_data['year'] = items_data['year'].astype(float) / items_data['year'].max()\n",
    "\n",
    "# Drop unnecessary columns\n",
    "ratings_data = ratings_data.drop(['timestamp'], axis=1) # Implicit Interactions\n",
    "users_data = users_data.drop(['user_id', 'zip_code'], axis=1) # Demographics\n",
    "items_data = items_data.drop(['movie_id', 'title'], axis=1)\n",
    "\n",
    "print(\"Ratings shape:\", ratings_data.shape, \"\\nUsers shape:\", users_data.shape, \"\\nItems shape:\", items_data.shape)\n",
    "\n",
    "# A quick look at the data\n",
    "display(ratings_data.head(3), users_data.head(3), items_data.head(3))"
   ]
  },
  {
   "cell_type": "markdown",
   "id": "58971843",
   "metadata": {
    "papermill": {
     "duration": 0.08151,
     "end_time": "2024-04-22T18:35:51.031885",
     "exception": false,
     "start_time": "2024-04-22T18:35:50.950375",
     "status": "completed"
    },
    "tags": []
   },
   "source": [
    "## Prepare Data"
   ]
  },
  {
   "cell_type": "code",
   "execution_count": 14,
   "id": "91229d5f",
   "metadata": {
    "execution": {
     "iopub.execute_input": "2024-04-22T18:35:51.194233Z",
     "iopub.status.busy": "2024-04-22T18:35:51.193867Z",
     "iopub.status.idle": "2024-04-22T18:35:52.988945Z",
     "shell.execute_reply": "2024-04-22T18:35:52.987541Z"
    },
    "papermill": {
     "duration": 1.879611,
     "end_time": "2024-04-22T18:35:52.991404",
     "exception": false,
     "start_time": "2024-04-22T18:35:51.111793",
     "status": "completed"
    },
    "tags": []
   },
   "outputs": [
    {
     "name": "stdout",
     "output_type": "stream",
     "text": [
      "Ratings shape: (896807, 3) (112101, 3) (112101, 3)\n",
      "Users shape: (896807, 48) (112101, 48) (112101, 48)\n",
      "Items shape: (896807, 19) (112101, 19) (112101, 19)\n"
     ]
    }
   ],
   "source": [
    "# ratings\n",
    "y_ratings_train, y_ratings_test = train_test_split(ratings_data, test_size=0.2, shuffle=True, random_state=42)\n",
    "y_ratings_val, y_ratings_test = train_test_split(y_ratings_test, test_size=0.5, shuffle=True, random_state=42)\n",
    "\n",
    "# users\n",
    "X_users_train, X_users_test = train_test_split(users_data, test_size=0.2, shuffle=True, random_state=42)\n",
    "X_users_val, X_users_test = train_test_split(X_users_test, test_size=0.5, shuffle=True, random_state=42)\n",
    "\n",
    "# items\n",
    "X_items_train, X_items_test = train_test_split(items_data, test_size=0.2, shuffle=True, random_state=42)\n",
    "X_items_val, X_items_test = train_test_split(X_items_test, test_size=0.5, shuffle=True, random_state=42)\n",
    "\n",
    "# Convert to NumPy arrays\n",
    "X_users_train, X_users_val, X_users_test = X_users_train.values, X_users_val.values, X_users_test.values\n",
    "X_items_train, X_items_val, X_items_test = X_items_train.values, X_items_val.values, X_items_test.values\n",
    "y_ratings_train, y_ratings_val, y_ratings_test = y_ratings_train.values, y_ratings_val.values, y_ratings_test.values\n",
    "\n",
    "# Shape of the data\n",
    "print(\"Ratings shape:\", y_ratings_train.shape, y_ratings_val.shape, y_ratings_test.shape)\n",
    "print(\"Users shape:\", X_users_train.shape, X_users_val.shape, X_users_test.shape)\n",
    "print(\"Items shape:\", X_items_train.shape, X_items_val.shape, X_items_test.shape)"
   ]
  },
  {
   "cell_type": "markdown",
   "id": "bd9c26a3",
   "metadata": {
    "papermill": {
     "duration": 0.084124,
     "end_time": "2024-04-22T18:35:53.157317",
     "exception": false,
     "start_time": "2024-04-22T18:35:53.073193",
     "status": "completed"
    },
    "tags": []
   },
   "source": [
    "## Model"
   ]
  },
  {
   "cell_type": "code",
   "execution_count": 15,
   "id": "94dedf4e",
   "metadata": {
    "execution": {
     "iopub.execute_input": "2024-04-22T18:35:53.483519Z",
     "iopub.status.busy": "2024-04-22T18:35:53.483150Z",
     "iopub.status.idle": "2024-04-22T18:35:53.522253Z",
     "shell.execute_reply": "2024-04-22T18:35:53.521025Z"
    },
    "papermill": {
     "duration": 0.120466,
     "end_time": "2024-04-22T18:35:53.524933",
     "exception": false,
     "start_time": "2024-04-22T18:35:53.404467",
     "status": "completed"
    },
    "tags": []
   },
   "outputs": [
    {
     "name": "stdout",
     "output_type": "stream",
     "text": [
      "NCF(\n",
      "  (user_embedding_mlp): Embedding(6041, 32)\n",
      "  (item_embedding_mlp): Embedding(3953, 32)\n",
      "  (user_embedding_mf): Embedding(6041, 32)\n",
      "  (item_embedding_mf): Embedding(3953, 32)\n",
      "  (user_features): Sequential(\n",
      "    (0): Linear(in_features=48, out_features=64, bias=True)\n",
      "    (1): ReLU()\n",
      "    (2): Linear(in_features=64, out_features=32, bias=True)\n",
      "    (3): ReLU()\n",
      "  )\n",
      "  (item_features): Sequential(\n",
      "    (0): Linear(in_features=19, out_features=64, bias=True)\n",
      "    (1): ReLU()\n",
      "    (2): Linear(in_features=64, out_features=32, bias=True)\n",
      "    (3): ReLU()\n",
      "  )\n",
      "  (MLP): Sequential(\n",
      "    (0): Linear(in_features=128, out_features=512, bias=True)\n",
      "    (1): ReLU()\n",
      "    (2): Dropout(p=0.1, inplace=False)\n",
      "    (3): Linear(in_features=512, out_features=256, bias=True)\n",
      "    (4): ReLU()\n",
      "    (5): Dropout(p=0.1, inplace=False)\n",
      "    (6): Linear(in_features=256, out_features=128, bias=True)\n",
      "    (7): ReLU()\n",
      "    (8): Dropout(p=0.1, inplace=False)\n",
      "    (9): Linear(in_features=128, out_features=32, bias=True)\n",
      "    (10): ReLU()\n",
      "  )\n",
      "  (neu_mf): Linear(in_features=64, out_features=1, bias=True)\n",
      "  (sigmoid): Sigmoid()\n",
      "  (criterion): BCELoss()\n",
      ") \n",
      "Running on:  cuda\n",
      "Number of parameters: 882,657\n"
     ]
    }
   ],
   "source": [
    "user_dim = users_data.shape[1] # 48\n",
    "item_dim = items_data.shape[1] # 19\n",
    "\n",
    "num_users = users_data_og['user_id'].max()\n",
    "num_items = items_data_og['movie_id'].max()\n",
    "\n",
    "embedding_dim = 32 # number of latent factors\n",
    "\n",
    "model = NCF(\n",
    "    num_users=num_users,\n",
    "    num_items=num_items,\n",
    "    user_dim=user_dim,\n",
    "    item_dim=item_dim,\n",
    "    num_factors=embedding_dim,\n",
    "    mode='implicit',\n",
    "    criterion=torch.nn.BCELoss(), # BCELoss since output layer has sigmoid applied to it, otherwise BCEWithLogitsLoss()\n",
    "    dropout=0.1,\n",
    "    lr=1e-3,\n",
    "    weight_decay=1e-5, # L2 regularization\n",
    "    verbose=True,\n",
    "    gpu=True\n",
    ")\n",
    "\n",
    "early_stopping = EarlyStopping(patience=2, delta=0.001, path='weights/implicit.pth') # early stops after 2 consecutive epochs with minor loss decrease/increase\n",
    "scheduler = torch.optim.lr_scheduler.ReduceLROnPlateau(model.optimizer, mode='min', factor=0.1, patience=0) # reduces learning rate by factor of 0.1 when no improvement is seen"
   ]
  },
  {
   "cell_type": "code",
   "execution_count": 21,
   "id": "b4582ea8",
   "metadata": {
    "execution": {
     "iopub.execute_input": "2024-04-22T18:35:53.691551Z",
     "iopub.status.busy": "2024-04-22T18:35:53.691137Z",
     "iopub.status.idle": "2024-04-22T18:58:12.856931Z",
     "shell.execute_reply": "2024-04-22T18:58:12.855835Z"
    },
    "papermill": {
     "duration": 1339.251712,
     "end_time": "2024-04-22T18:58:12.859580",
     "exception": false,
     "start_time": "2024-04-22T18:35:53.607868",
     "status": "completed"
    },
    "tags": []
   },
   "outputs": [
    {
     "name": "stdout",
     "output_type": "stream",
     "text": [
      "Epoch 1/10\n",
      "438/438 - loss: 0.2265 - Val Loss: 0.1902 - NDCG: 0.9721 - HR: 0.9867 - ROC-AUC: 0.9107 - lr: 0.001\n",
      "Epoch 2/10\n",
      "438/438 - loss: 0.1825 - Val Loss: 0.1792 - NDCG: 0.9741 - HR: 0.9867 - ROC-AUC: 0.9213 - lr: 0.001\n",
      "Epoch 3/10\n",
      "438/438 - loss: 0.1709 - Val Loss: 0.1760 - NDCG: 0.9743 - HR: 0.9867 - ROC-AUC: 0.9237 - lr: 0.001\n",
      "Epoch 4/10\n",
      "438/438 - loss: 0.1610 - Val Loss: 0.1730 - NDCG: 0.9749 - HR: 0.9867 - ROC-AUC: 0.9260 - lr: 0.001\n",
      "Epoch 5/10\n",
      "438/438 - loss: 0.1512 - Val Loss: 0.1731 - NDCG: 0.9748 - HR: 0.9867 - ROC-AUC: 0.9267 - lr: 0.0001\n",
      "Epoch 6/10\n",
      "438/438 - loss: 0.1269 - Val Loss: 0.1822 - NDCG: 0.9741 - HR: 0.9867 - ROC-AUC: 0.9233 - lr: 1e-05\n",
      "Early stopping\n"
     ]
    }
   ],
   "source": [
    "history = model.fit(\n",
    "    X=[y_ratings_train[:, 0], y_ratings_train[:, 1], X_users_train, X_items_train],\n",
    "    y=y_ratings_train[:, 2],\n",
    "    X_val=[y_ratings_val[:, 0], y_ratings_val[:, 1], X_users_val, X_items_val],\n",
    "    y_val=y_ratings_val[:, 2],\n",
    "    epochs=10,\n",
    "    batch_size=2048,\n",
    "    k=10,\n",
    "    early_stopping=early_stopping,\n",
    "    scheduler=scheduler\n",
    ")"
   ]
  },
  {
   "cell_type": "code",
   "execution_count": 22,
   "id": "e12d10b8",
   "metadata": {},
   "outputs": [
    {
     "data": {
      "image/png": "[encoded data removed]",
      "text/plain": [
       "<Figure size 1200x400 with 2 Axes>"
      ]
     },
     "metadata": {},
     "output_type": "display_data"
    }
   ],
   "source": [
    "# Plots\n",
    "Utils.plot_metrics(history, 'Implicit Feedback')"
   ]
  },
  {
   "cell_type": "code",
   "execution_count": 23,
   "id": "1d3cc3e9",
   "metadata": {
    "execution": {
     "iopub.execute_input": "2024-04-22T18:58:13.198298Z",
     "iopub.status.busy": "2024-04-22T18:58:13.197591Z",
     "iopub.status.idle": "2024-04-22T18:58:18.525622Z",
     "shell.execute_reply": "2024-04-22T18:58:18.524561Z"
    },
    "papermill": {
     "duration": 5.499797,
     "end_time": "2024-04-22T18:58:18.528127",
     "exception": false,
     "start_time": "2024-04-22T18:58:13.028330",
     "status": "completed"
    },
    "tags": []
   },
   "outputs": [
    {
     "name": "stdout",
     "output_type": "stream",
     "text": [
      "Average Loss: 0.1856, NDCG@10: 0.9732, HR@10: 0.9869, AUC: 0.9222\n"
     ]
    }
   ],
   "source": [
    "model.eval() # set model to evaluation mode (disables dropout layers)\n",
    "\n",
    "topk=10\n",
    "\n",
    "avg_loss, ndcg, hr, auc = model.evaluate([\n",
    "    y_ratings_test[:, 0],\n",
    "    y_ratings_test[:, 1],\n",
    "    X_users_test,\n",
    "    X_items_test],\n",
    "    y_ratings_test[:, 2],\n",
    "    batch_size=256,\n",
    "    k=topk\n",
    ")\n",
    "\n",
    "print(f\"Average Loss: {avg_loss:.4f}, NDCG@{topk}: {ndcg:.4f}, HR@{topk}: {hr:.4f}, AUC: {auc:.4f}\")"
   ]
  },
  {
   "cell_type": "markdown",
   "id": "6838032e",
   "metadata": {
    "papermill": {
     "duration": 0.162783,
     "end_time": "2024-04-22T18:58:19.266126",
     "exception": false,
     "start_time": "2024-04-22T18:58:19.103343",
     "status": "completed"
    },
    "tags": []
   },
   "source": [
    "## Testing"
   ]
  },
  {
   "cell_type": "markdown",
   "id": "7ca07d64",
   "metadata": {
    "papermill": {
     "duration": 0.156499,
     "end_time": "2024-04-22T18:58:19.584145",
     "exception": false,
     "start_time": "2024-04-22T18:58:19.427646",
     "status": "completed"
    },
    "tags": []
   },
   "source": [
    "### New User"
   ]
  },
  {
   "cell_type": "code",
   "execution_count": 17,
   "id": "f2bad1a5",
   "metadata": {},
   "outputs": [],
   "source": [
    "new_user = {\n",
    "    'id': 7000, # new user id\n",
    "    'age': 20,\n",
    "    'occupation': 'engineer',\n",
    "    'gender': 'F',\n",
    "    'genres': ['Children', 'Comedy', 'Animation'],\n",
    "}\n",
    "\n",
    "user_id, user, weights, _ = Utils.preprocess_user(\n",
    "                                user=new_user,\n",
    "                                num_items=items_data_og.shape[0],\n",
    "                                users=users_data.drop_duplicates(inplace=False).values,\n",
    "                                weights=[model.user_embedding_mlp.weight.data.cpu().numpy(), model.user_embedding_mf.weight.data.cpu().numpy()]\n",
    "                                )\n",
    "items = Utils.preprocess_items(items_data_og)\n",
    "items.to_csv('data/items.csv', index=False)\n",
    "user_id, user = user_id.to(model.device), user.to(model.device)"
   ]
  },
  {
   "cell_type": "code",
   "execution_count": 18,
   "id": "fa44da0e",
   "metadata": {
    "execution": {
     "iopub.execute_input": "2024-04-22T18:58:19.913141Z",
     "iopub.status.busy": "2024-04-22T18:58:19.912384Z",
     "iopub.status.idle": "2024-04-22T18:58:19.956727Z",
     "shell.execute_reply": "2024-04-22T18:58:19.955808Z"
    },
    "papermill": {
     "duration": 0.212203,
     "end_time": "2024-04-22T18:58:19.959249",
     "exception": false,
     "start_time": "2024-04-22T18:58:19.747046",
     "status": "completed"
    },
    "tags": []
   },
   "outputs": [
    {
     "data": {
      "text/html": [
       "<div>\n",
       "<style scoped>\n",
       "    .dataframe tbody tr th:only-of-type {\n",
       "        vertical-align: middle;\n",
       "    }\n",
       "\n",
       "    .dataframe tbody tr th {\n",
       "        vertical-align: top;\n",
       "    }\n",
       "\n",
       "    .dataframe thead th {\n",
       "        text-align: right;\n",
       "    }\n",
       "</style>\n",
       "<table border=\"1\" class=\"dataframe\">\n",
       "  <thead>\n",
       "    <tr style=\"text-align: right;\">\n",
       "      <th></th>\n",
       "      <th>movie_id</th>\n",
       "      <th>title</th>\n",
       "      <th>genre</th>\n",
       "      <th>predicted_score</th>\n",
       "    </tr>\n",
       "  </thead>\n",
       "  <tbody>\n",
       "    <tr>\n",
       "      <th>0</th>\n",
       "      <td>588</td>\n",
       "      <td>Aladdin (1992)</td>\n",
       "      <td>Animation|Children's|Comedy|Musical</td>\n",
       "      <td>1.0</td>\n",
       "    </tr>\n",
       "    <tr>\n",
       "      <th>1</th>\n",
       "      <td>3114</td>\n",
       "      <td>Toy Story 2 (1999)</td>\n",
       "      <td>Animation|Children's|Comedy</td>\n",
       "      <td>1.0</td>\n",
       "    </tr>\n",
       "    <tr>\n",
       "      <th>2</th>\n",
       "      <td>1566</td>\n",
       "      <td>Hercules (1997)</td>\n",
       "      <td>Adventure|Animation|Children's|Comedy|Musical</td>\n",
       "      <td>1.0</td>\n",
       "    </tr>\n",
       "    <tr>\n",
       "      <th>3</th>\n",
       "      <td>1</td>\n",
       "      <td>Toy Story (1995)</td>\n",
       "      <td>Animation|Children's|Comedy</td>\n",
       "      <td>1.0</td>\n",
       "    </tr>\n",
       "    <tr>\n",
       "      <th>4</th>\n",
       "      <td>2081</td>\n",
       "      <td>Little Mermaid, The (1989)</td>\n",
       "      <td>Animation|Children's|Comedy|Musical|Romance</td>\n",
       "      <td>1.0</td>\n",
       "    </tr>\n",
       "    <tr>\n",
       "      <th>5</th>\n",
       "      <td>2355</td>\n",
       "      <td>Bug's Life, A (1998)</td>\n",
       "      <td>Animation|Children's|Comedy</td>\n",
       "      <td>1.0</td>\n",
       "    </tr>\n",
       "    <tr>\n",
       "      <th>6</th>\n",
       "      <td>673</td>\n",
       "      <td>Space Jam (1996)</td>\n",
       "      <td>Adventure|Animation|Children's|Comedy|Fantasy</td>\n",
       "      <td>1.0</td>\n",
       "    </tr>\n",
       "    <tr>\n",
       "      <th>7</th>\n",
       "      <td>2080</td>\n",
       "      <td>Lady and the Tramp (1955)</td>\n",
       "      <td>Animation|Children's|Comedy|Musical|Romance</td>\n",
       "      <td>1.0</td>\n",
       "    </tr>\n",
       "    <tr>\n",
       "      <th>8</th>\n",
       "      <td>2087</td>\n",
       "      <td>Peter Pan (1953)</td>\n",
       "      <td>Animation|Children's|Fantasy|Musical</td>\n",
       "      <td>1.0</td>\n",
       "    </tr>\n",
       "    <tr>\n",
       "      <th>9</th>\n",
       "      <td>551</td>\n",
       "      <td>Nightmare Before Christmas, The (1993)</td>\n",
       "      <td>Children's|Comedy|Musical</td>\n",
       "      <td>1.0</td>\n",
       "    </tr>\n",
       "  </tbody>\n",
       "</table>\n",
       "</div>"
      ],
      "text/plain": [
       "   movie_id                                   title  \\\n",
       "0       588                          Aladdin (1992)   \n",
       "1      3114                      Toy Story 2 (1999)   \n",
       "2      1566                         Hercules (1997)   \n",
       "3         1                        Toy Story (1995)   \n",
       "4      2081              Little Mermaid, The (1989)   \n",
       "5      2355                    Bug's Life, A (1998)   \n",
       "6       673                        Space Jam (1996)   \n",
       "7      2080               Lady and the Tramp (1955)   \n",
       "8      2087                        Peter Pan (1953)   \n",
       "9       551  Nightmare Before Christmas, The (1993)   \n",
       "\n",
       "                                           genre  predicted_score  \n",
       "0            Animation|Children's|Comedy|Musical              1.0  \n",
       "1                    Animation|Children's|Comedy              1.0  \n",
       "2  Adventure|Animation|Children's|Comedy|Musical              1.0  \n",
       "3                    Animation|Children's|Comedy              1.0  \n",
       "4    Animation|Children's|Comedy|Musical|Romance              1.0  \n",
       "5                    Animation|Children's|Comedy              1.0  \n",
       "6  Adventure|Animation|Children's|Comedy|Fantasy              1.0  \n",
       "7    Animation|Children's|Comedy|Musical|Romance              1.0  \n",
       "8           Animation|Children's|Fantasy|Musical              1.0  \n",
       "9                      Children's|Comedy|Musical              1.0  "
      ]
     },
     "execution_count": 18,
     "metadata": {},
     "output_type": "execute_result"
    }
   ],
   "source": [
    "############### Pipeline ###############\n",
    "\n",
    "# 1- Retrieval Stage\n",
    "movies = Utils.retrieve(\n",
    "    movies=items,\n",
    "    user=user.detach().cpu().numpy(),\n",
    "    num_genres=3,\n",
    "    k=300, # retrieve 300 relevant movies. Note: higher k leads to better recommendations but slower inference\n",
    "    random_state=0\n",
    ")\n",
    "\n",
    "# 2- Filtering Stage\n",
    "movie_ids, movies = Utils.filter( # Removes already-rated / duplicate movies\n",
    "    movies=movies,\n",
    "    ratings=ratings_data_og,\n",
    "    user_id=new_user['id']\n",
    ")\n",
    "movie_ids, movies = movie_ids.to(model.device), movies.to(model.device)\n",
    "\n",
    "# 3- Ranking Stage\n",
    "y_pred = model(\n",
    "    user_id[:len(movies)],\n",
    "    movie_ids,\n",
    "    user[:len(movies)],\n",
    "    movies,\n",
    "    weights\n",
    ").cpu().detach().numpy()\n",
    "\n",
    "# 4- Ordering Stage\n",
    "movies_retrieved = items_data_og[items_data_og['movie_id'].isin(movie_ids.cpu().numpy())].sort_values(by='movie_id', key=lambda x: pd.Categorical(x, categories=movie_ids.cpu().numpy(), ordered=True))\n",
    "Utils.order(y_pred, movies_retrieved, 'implicit', top_k=10)"
   ]
  },
  {
   "cell_type": "markdown",
   "id": "23e66058",
   "metadata": {
    "papermill": {
     "duration": 0.181388,
     "end_time": "2024-04-22T18:58:20.989644",
     "exception": false,
     "start_time": "2024-04-22T18:58:20.808256",
     "status": "completed"
    },
    "tags": []
   },
   "source": [
    "### Existing user"
   ]
  },
  {
   "cell_type": "code",
   "execution_count": 19,
   "id": "3fee32b0",
   "metadata": {
    "execution": {
     "iopub.execute_input": "2024-04-22T18:58:21.326346Z",
     "iopub.status.busy": "2024-04-22T18:58:21.325381Z",
     "iopub.status.idle": "2024-04-22T18:58:21.369674Z",
     "shell.execute_reply": "2024-04-22T18:58:21.368675Z"
    },
    "papermill": {
     "duration": 0.213996,
     "end_time": "2024-04-22T18:58:21.372616",
     "exception": false,
     "start_time": "2024-04-22T18:58:21.158620",
     "status": "completed"
    },
    "tags": []
   },
   "outputs": [
    {
     "name": "stdout",
     "output_type": "stream",
     "text": [
      "User id: 4400 top 3 genres: ['Romance' 'Drama' 'Comedy']\n"
     ]
    }
   ],
   "source": [
    "old_user = {\n",
    "    'id': 4400\n",
    "}\n",
    "\n",
    "# preprocess the old user\n",
    "user_id, user, _, _ = Utils.preprocess_user(\n",
    "                                user=old_user,\n",
    "                                num_items=items_data_og.shape[0],\n",
    "                                users=users_data.drop_duplicates(inplace=False).values,\n",
    "                                topk=3, # top 3 genres the user has interacted with. MAX: 18\n",
    "                                verbose=True\n",
    "                                )\n",
    "items = Utils.preprocess_items(items_data_og)\n",
    "\n",
    "user_id, user = user_id.to(model.device), user.to(model.device)"
   ]
  },
  {
   "cell_type": "code",
   "execution_count": 20,
   "id": "a08138f2",
   "metadata": {
    "execution": {
     "iopub.execute_input": "2024-04-22T18:58:21.722743Z",
     "iopub.status.busy": "2024-04-22T18:58:21.722238Z",
     "iopub.status.idle": "2024-04-22T18:58:21.961217Z",
     "shell.execute_reply": "2024-04-22T18:58:21.959969Z"
    },
    "papermill": {
     "duration": 0.410743,
     "end_time": "2024-04-22T18:58:21.963849",
     "exception": false,
     "start_time": "2024-04-22T18:58:21.553106",
     "status": "completed"
    },
    "tags": []
   },
   "outputs": [
    {
     "data": {
      "text/html": [
       "<div>\n",
       "<style scoped>\n",
       "    .dataframe tbody tr th:only-of-type {\n",
       "        vertical-align: middle;\n",
       "    }\n",
       "\n",
       "    .dataframe tbody tr th {\n",
       "        vertical-align: top;\n",
       "    }\n",
       "\n",
       "    .dataframe thead th {\n",
       "        text-align: right;\n",
       "    }\n",
       "</style>\n",
       "<table border=\"1\" class=\"dataframe\">\n",
       "  <thead>\n",
       "    <tr style=\"text-align: right;\">\n",
       "      <th></th>\n",
       "      <th>movie_id</th>\n",
       "      <th>title</th>\n",
       "      <th>genre</th>\n",
       "      <th>predicted_score</th>\n",
       "    </tr>\n",
       "  </thead>\n",
       "  <tbody>\n",
       "    <tr>\n",
       "      <th>0</th>\n",
       "      <td>356</td>\n",
       "      <td>Forrest Gump (1994)</td>\n",
       "      <td>Comedy|Romance|War</td>\n",
       "      <td>0.99</td>\n",
       "    </tr>\n",
       "    <tr>\n",
       "      <th>1</th>\n",
       "      <td>11</td>\n",
       "      <td>American President, The (1995)</td>\n",
       "      <td>Comedy|Drama|Romance</td>\n",
       "      <td>0.98</td>\n",
       "    </tr>\n",
       "    <tr>\n",
       "      <th>2</th>\n",
       "      <td>2248</td>\n",
       "      <td>Say Anything... (1989)</td>\n",
       "      <td>Comedy|Drama|Romance</td>\n",
       "      <td>0.98</td>\n",
       "    </tr>\n",
       "    <tr>\n",
       "      <th>3</th>\n",
       "      <td>2396</td>\n",
       "      <td>Shakespeare in Love (1998)</td>\n",
       "      <td>Comedy|Romance</td>\n",
       "      <td>0.98</td>\n",
       "    </tr>\n",
       "    <tr>\n",
       "      <th>4</th>\n",
       "      <td>2291</td>\n",
       "      <td>Edward Scissorhands (1990)</td>\n",
       "      <td>Drama|Romance</td>\n",
       "      <td>0.98</td>\n",
       "    </tr>\n",
       "    <tr>\n",
       "      <th>5</th>\n",
       "      <td>920</td>\n",
       "      <td>Gone with the Wind (1939)</td>\n",
       "      <td>Drama|Romance|War</td>\n",
       "      <td>0.98</td>\n",
       "    </tr>\n",
       "    <tr>\n",
       "      <th>6</th>\n",
       "      <td>838</td>\n",
       "      <td>Emma (1996)</td>\n",
       "      <td>Comedy|Drama|Romance</td>\n",
       "      <td>0.97</td>\n",
       "    </tr>\n",
       "    <tr>\n",
       "      <th>7</th>\n",
       "      <td>2406</td>\n",
       "      <td>Romancing the Stone (1984)</td>\n",
       "      <td>Action|Adventure|Comedy|Romance</td>\n",
       "      <td>0.97</td>\n",
       "    </tr>\n",
       "    <tr>\n",
       "      <th>8</th>\n",
       "      <td>912</td>\n",
       "      <td>Casablanca (1942)</td>\n",
       "      <td>Drama|Romance|War</td>\n",
       "      <td>0.97</td>\n",
       "    </tr>\n",
       "    <tr>\n",
       "      <th>9</th>\n",
       "      <td>1569</td>\n",
       "      <td>My Best Friend's Wedding (1997)</td>\n",
       "      <td>Comedy|Romance</td>\n",
       "      <td>0.96</td>\n",
       "    </tr>\n",
       "  </tbody>\n",
       "</table>\n",
       "</div>"
      ],
      "text/plain": [
       "   movie_id                            title                            genre  \\\n",
       "0       356              Forrest Gump (1994)               Comedy|Romance|War   \n",
       "1        11   American President, The (1995)             Comedy|Drama|Romance   \n",
       "2      2248           Say Anything... (1989)             Comedy|Drama|Romance   \n",
       "3      2396       Shakespeare in Love (1998)                   Comedy|Romance   \n",
       "4      2291       Edward Scissorhands (1990)                    Drama|Romance   \n",
       "5       920        Gone with the Wind (1939)                Drama|Romance|War   \n",
       "6       838                      Emma (1996)             Comedy|Drama|Romance   \n",
       "7      2406       Romancing the Stone (1984)  Action|Adventure|Comedy|Romance   \n",
       "8       912                Casablanca (1942)                Drama|Romance|War   \n",
       "9      1569  My Best Friend's Wedding (1997)                   Comedy|Romance   \n",
       "\n",
       "   predicted_score  \n",
       "0             0.99  \n",
       "1             0.98  \n",
       "2             0.98  \n",
       "3             0.98  \n",
       "4             0.98  \n",
       "5             0.98  \n",
       "6             0.97  \n",
       "7             0.97  \n",
       "8             0.97  \n",
       "9             0.96  "
      ]
     },
     "execution_count": 20,
     "metadata": {},
     "output_type": "execute_result"
    }
   ],
   "source": [
    "############### Pipeline ###############\n",
    "\n",
    "# 1- Retrieval Stage\n",
    "movies = Utils.retrieve(\n",
    "    movies=items,\n",
    "    user=user.detach().cpu().numpy(),\n",
    "    k=300, # retrieve 300 relevant movies. Note: higher k leads to better recommendations but slower inference\n",
    "    random_state=0\n",
    ")\n",
    "\n",
    "# 2- Filtering Stage\n",
    "movie_ids, movies = Utils.filter( # Removes already-rated / duplicate movies\n",
    "    movies=movies,\n",
    "    ratings=ratings_data_og,\n",
    "    user_id=new_user['id']\n",
    ")\n",
    "movie_ids, movies = movie_ids.to(model.device), movies.to(model.device)\n",
    "\n",
    "# 3- Ranking Stage\n",
    "y_pred = model(\n",
    "    user_id[:len(movies)],\n",
    "    movie_ids,\n",
    "    user[:len(movies)],\n",
    "    movies\n",
    ").cpu().detach().numpy()\n",
    "\n",
    "# 4- Ordering Stage\n",
    "movies_retrieved = items_data_og[items_data_og['movie_id'].isin(movie_ids.cpu().numpy())].sort_values(by='movie_id', key=lambda x: pd.Categorical(x, categories=movie_ids.cpu().numpy(), ordered=True))\n",
    "Utils.order(y_pred, movies_retrieved, 'implicit', top_k=10)"
   ]
  },
  {
   "cell_type": "markdown",
   "id": "60f13f1e",
   "metadata": {},
   "source": [
    "# Item-to-Item Recommendations\n",
    "Sometimes, we might want to recommend similar items to a given item. This can be achieved using the item embeddings learned by the model.\n",
    "\n",
    "**Soon to be implemented ...**"
   ]
  }
 ],
 "metadata": {
  "kaggle": {
   "accelerator": "nvidiaTeslaT4",
   "dataSources": [
    {
     "datasetId": 4746761,
     "sourceId": 8049431,
     "sourceType": "datasetVersion"
    },
    {
     "datasetId": 4831836,
     "sourceId": 8165668,
     "sourceType": "datasetVersion"
    }
   ],
   "dockerImageVersionId": 30699,
   "isGpuEnabled": true,
   "isInternetEnabled": true,
   "language": "python",
   "sourceType": "notebook"
  },
  "kernelspec": {
   "display_name": "Python 3",
   "language": "python",
   "name": "python3"
  },
  "language_info": {
   "codemirror_mode": {
    "name": "ipython",
    "version": 3
   },
   "file_extension": ".py",
   "mimetype": "text/x-python",
   "name": "python",
   "nbconvert_exporter": "python",
   "pygments_lexer": "ipython3",
   "version": "3.10.14"
  },
  "papermill": {
   "default_parameters": {},
   "duration": 2597.793009,
   "end_time": "2024-04-22T18:58:24.902568",
   "environment_variables": {},
   "exception": null,
   "input_path": "__notebook__.ipynb",
   "output_path": "__notebook__.ipynb",
   "parameters": {},
   "start_time": "2024-04-22T18:15:07.109559",
   "version": "2.5.0"
  }
 },
 "nbformat": 4,
 "nbformat_minor": 5
}
